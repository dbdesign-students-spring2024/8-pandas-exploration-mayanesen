{
 "cells": [
  {
   "cell_type": "markdown",
   "metadata": {},
   "source": [
    "# pandas exploration\n",
    "In this assignment you will select a data set and do some munging and analysis of it using `pandas`, Jupyter Notebooks, and associated Python-centric data science tools."
   ]
  },
  {
   "cell_type": "markdown",
   "metadata": {},
   "source": [
    "## Set up environment"
   ]
  },
  {
   "cell_type": "markdown",
   "metadata": {},
   "source": [
    "The following lines ensure that `numpy` and `pandas` are installed in the notebook environment.  Depending on your system, this may not be necessary and may be removed."
   ]
  },
  {
   "cell_type": "code",
   "execution_count": 472,
   "metadata": {},
   "outputs": [
    {
     "name": "stdout",
     "output_type": "stream",
     "text": [
      "Requirement already satisfied: numpy in /Library/Frameworks/Python.framework/Versions/3.10/lib/python3.10/site-packages (1.26.4)\n",
      "Requirement already satisfied: pandas in /Library/Frameworks/Python.framework/Versions/3.10/lib/python3.10/site-packages (2.2.0)\n",
      "Requirement already satisfied: numpy<2,>=1.22.4 in /Library/Frameworks/Python.framework/Versions/3.10/lib/python3.10/site-packages (from pandas) (1.26.4)\n",
      "Requirement already satisfied: python-dateutil>=2.8.2 in /Library/Frameworks/Python.framework/Versions/3.10/lib/python3.10/site-packages (from pandas) (2.8.2)\n",
      "Requirement already satisfied: pytz>=2020.1 in /Library/Frameworks/Python.framework/Versions/3.10/lib/python3.10/site-packages (from pandas) (2024.1)\n",
      "Requirement already satisfied: tzdata>=2022.7 in /Library/Frameworks/Python.framework/Versions/3.10/lib/python3.10/site-packages (from pandas) (2024.1)\n",
      "Requirement already satisfied: six>=1.5 in /Library/Frameworks/Python.framework/Versions/3.10/lib/python3.10/site-packages (from python-dateutil>=2.8.2->pandas) (1.16.0)\n"
     ]
    }
   ],
   "source": [
    "!pip install numpy\n",
    "!pip install pandas"
   ]
  },
  {
   "cell_type": "markdown",
   "metadata": {},
   "source": [
    "Import the core data science libraries:"
   ]
  },
  {
   "cell_type": "code",
   "execution_count": 473,
   "metadata": {},
   "outputs": [],
   "source": [
    "%matplotlib inline\n",
    "import matplotlib.pyplot as plt\n",
    "import numpy as np\n",
    "import pandas as pd"
   ]
  },
  {
   "cell_type": "markdown",
   "metadata": {},
   "source": [
    "## Import the raw data\n",
    "In this section, you will import the raw data into a `pandas` DataFrame."
   ]
  },
  {
   "cell_type": "markdown",
   "metadata": {},
   "source": [
    "Below, I import my CSV file using the `pd.read_csv` function.\n",
    "\n",
    "The link to my CSV from the NYC Open Data site is [here](https://data.cityofnewyork.us/Education/2005-2011-Graduation-Outcomes-School-Level-Gender/khqi-x3p3/about_data).\n",
    "\n",
    "My dataset includes information about various schools in New York City, including the gender of students and various graduation rates."
   ]
  },
  {
   "cell_type": "code",
   "execution_count": 474,
   "metadata": {},
   "outputs": [],
   "source": [
    "# importing the csv file from my data folder\n",
    "df = pd.read_csv(\"./data/grad-nyc-gender.csv\")"
   ]
  },
  {
   "cell_type": "markdown",
   "metadata": {},
   "source": [
    "## Data inspection\n",
    "In this section, you will show enough of your data for a viewer to get a general sense of how the data is structured and any unique features of it.  Complete each of the indicated tasks in a Code cell, making sure to include a Markdown cell above each Code cell that explains what is being shown by the code.  \n",
    "- Show 5 rows, selected at random, from the data set.\n",
    "- Show each of the column names and their data types.\n",
    "- Show any unique features of your chosen data set.\n",
    "\n",
    "Feel free to add as many additional cells as you need to help explain the raw data."
   ]
  },
  {
   "cell_type": "markdown",
   "metadata": {},
   "source": [
    "Below shows 5 random rows from my dataset."
   ]
  },
  {
   "cell_type": "code",
   "execution_count": 475,
   "metadata": {},
   "outputs": [
    {
     "data": {
      "text/html": [
       "<div>\n",
       "<style scoped>\n",
       "    .dataframe tbody tr th:only-of-type {\n",
       "        vertical-align: middle;\n",
       "    }\n",
       "\n",
       "    .dataframe tbody tr th {\n",
       "        vertical-align: top;\n",
       "    }\n",
       "\n",
       "    .dataframe thead th {\n",
       "        text-align: right;\n",
       "    }\n",
       "</style>\n",
       "<table border=\"1\" class=\"dataframe\">\n",
       "  <thead>\n",
       "    <tr style=\"text-align: right;\">\n",
       "      <th></th>\n",
       "      <th>DBN</th>\n",
       "      <th>School Name</th>\n",
       "      <th>Cohort Year</th>\n",
       "      <th>Cohort Category</th>\n",
       "      <th>Demographic</th>\n",
       "      <th>Total Cohort Num</th>\n",
       "      <th>Total Grads Num</th>\n",
       "      <th>Total Grads Pct of cohort</th>\n",
       "      <th>Total Regents Num</th>\n",
       "      <th>Total Regents Pct of cohort</th>\n",
       "      <th>...</th>\n",
       "      <th>Regents w/o Advanced Num</th>\n",
       "      <th>Regents w/o Advanced Pct of cohort</th>\n",
       "      <th>Regents w/o Advanced Pct of grads</th>\n",
       "      <th>Local Num</th>\n",
       "      <th>Local Pct of cohort</th>\n",
       "      <th>Local Pct of grads</th>\n",
       "      <th>Still Enrolled Num</th>\n",
       "      <th>Still Enrolled Pct of cohort</th>\n",
       "      <th>Dropped Out Num</th>\n",
       "      <th>Dropped Out Pct of cohort</th>\n",
       "    </tr>\n",
       "  </thead>\n",
       "  <tbody>\n",
       "    <tr>\n",
       "      <th>11767</th>\n",
       "      <td>21K400</td>\n",
       "      <td>LAFAYETTE HIGH SCHOOL</td>\n",
       "      <td>2002</td>\n",
       "      <td>5 Year</td>\n",
       "      <td>Female</td>\n",
       "      <td>212</td>\n",
       "      <td>126</td>\n",
       "      <td>59.40%</td>\n",
       "      <td>57</td>\n",
       "      <td>26.90%</td>\n",
       "      <td>...</td>\n",
       "      <td>44</td>\n",
       "      <td>20.80%</td>\n",
       "      <td>34.90%</td>\n",
       "      <td>69</td>\n",
       "      <td>32.50%</td>\n",
       "      <td>54.80%</td>\n",
       "      <td>21</td>\n",
       "      <td>9.90%</td>\n",
       "      <td>56</td>\n",
       "      <td>26.40%</td>\n",
       "    </tr>\n",
       "    <tr>\n",
       "      <th>2966</th>\n",
       "      <td>03M479</td>\n",
       "      <td>BEACON HIGH SCHOOL</td>\n",
       "      <td>2002</td>\n",
       "      <td>6 Year</td>\n",
       "      <td>Male</td>\n",
       "      <td>102</td>\n",
       "      <td>91</td>\n",
       "      <td>89.20%</td>\n",
       "      <td>61</td>\n",
       "      <td>59.80%</td>\n",
       "      <td>...</td>\n",
       "      <td>61</td>\n",
       "      <td>59.80%</td>\n",
       "      <td>67.00%</td>\n",
       "      <td>30</td>\n",
       "      <td>29.40%</td>\n",
       "      <td>33.00%</td>\n",
       "      <td>1</td>\n",
       "      <td>1.00%</td>\n",
       "      <td>6</td>\n",
       "      <td>5.90%</td>\n",
       "    </tr>\n",
       "    <tr>\n",
       "      <th>2440</th>\n",
       "      <td>02M605</td>\n",
       "      <td>HUMANITIES PREPARATORY ACADEMY</td>\n",
       "      <td>2002</td>\n",
       "      <td>6 Year</td>\n",
       "      <td>Female</td>\n",
       "      <td>15</td>\n",
       "      <td>s</td>\n",
       "      <td>s</td>\n",
       "      <td>s</td>\n",
       "      <td>s</td>\n",
       "      <td>...</td>\n",
       "      <td>s</td>\n",
       "      <td>s</td>\n",
       "      <td>s</td>\n",
       "      <td>s</td>\n",
       "      <td>s</td>\n",
       "      <td>s</td>\n",
       "      <td>s</td>\n",
       "      <td>s</td>\n",
       "      <td>s</td>\n",
       "      <td>s</td>\n",
       "    </tr>\n",
       "    <tr>\n",
       "      <th>15073</th>\n",
       "      <td>31R460</td>\n",
       "      <td>SUSAN E WAGNER HIGH SCHOOL</td>\n",
       "      <td>2005</td>\n",
       "      <td>4 Year August</td>\n",
       "      <td>Female</td>\n",
       "      <td>407</td>\n",
       "      <td>315</td>\n",
       "      <td>77.40%</td>\n",
       "      <td>232</td>\n",
       "      <td>57.00%</td>\n",
       "      <td>...</td>\n",
       "      <td>141</td>\n",
       "      <td>34.60%</td>\n",
       "      <td>44.80%</td>\n",
       "      <td>83</td>\n",
       "      <td>20.40%</td>\n",
       "      <td>26.30%</td>\n",
       "      <td>41</td>\n",
       "      <td>10.10%</td>\n",
       "      <td>15</td>\n",
       "      <td>3.70%</td>\n",
       "    </tr>\n",
       "    <tr>\n",
       "      <th>10301</th>\n",
       "      <td>17K528</td>\n",
       "      <td>HIGH SCHOOL FOR GLOBAL CITIZENSHIP (THE)</td>\n",
       "      <td>2003</td>\n",
       "      <td>6 Year</td>\n",
       "      <td>Male</td>\n",
       "      <td>2</td>\n",
       "      <td>s</td>\n",
       "      <td>s</td>\n",
       "      <td>s</td>\n",
       "      <td>s</td>\n",
       "      <td>...</td>\n",
       "      <td>s</td>\n",
       "      <td>s</td>\n",
       "      <td>s</td>\n",
       "      <td>s</td>\n",
       "      <td>s</td>\n",
       "      <td>s</td>\n",
       "      <td>s</td>\n",
       "      <td>s</td>\n",
       "      <td>s</td>\n",
       "      <td>s</td>\n",
       "    </tr>\n",
       "  </tbody>\n",
       "</table>\n",
       "<p>5 rows × 24 columns</p>\n",
       "</div>"
      ],
      "text/plain": [
       "          DBN                               School Name  Cohort Year  \\\n",
       "11767  21K400                     LAFAYETTE HIGH SCHOOL         2002   \n",
       "2966   03M479                        BEACON HIGH SCHOOL         2002   \n",
       "2440   02M605            HUMANITIES PREPARATORY ACADEMY         2002   \n",
       "15073  31R460                SUSAN E WAGNER HIGH SCHOOL         2005   \n",
       "10301  17K528  HIGH SCHOOL FOR GLOBAL CITIZENSHIP (THE)         2003   \n",
       "\n",
       "      Cohort Category Demographic  Total Cohort Num Total Grads Num  \\\n",
       "11767          5 Year      Female               212             126   \n",
       "2966           6 Year        Male               102              91   \n",
       "2440           6 Year      Female                15              s    \n",
       "15073   4 Year August      Female               407             315   \n",
       "10301          6 Year        Male                 2              s    \n",
       "\n",
       "      Total Grads Pct of cohort Total Regents Num Total Regents Pct of cohort  \\\n",
       "11767                    59.40%                57                      26.90%   \n",
       "2966                     89.20%                61                      59.80%   \n",
       "2440                          s                s                            s   \n",
       "15073                    77.40%               232                      57.00%   \n",
       "10301                         s                s                            s   \n",
       "\n",
       "       ... Regents w/o Advanced Num Regents w/o Advanced Pct of cohort  \\\n",
       "11767  ...                       44                             20.80%   \n",
       "2966   ...                       61                             59.80%   \n",
       "2440   ...                       s                                   s   \n",
       "15073  ...                      141                             34.60%   \n",
       "10301  ...                       s                                   s   \n",
       "\n",
       "      Regents w/o Advanced Pct of grads Local Num Local Pct of cohort  \\\n",
       "11767                            34.90%        69              32.50%   \n",
       "2966                             67.00%        30              29.40%   \n",
       "2440                                  s        s                    s   \n",
       "15073                            44.80%        83              20.40%   \n",
       "10301                                 s        s                    s   \n",
       "\n",
       "      Local Pct of grads Still Enrolled Num Still Enrolled Pct of cohort  \\\n",
       "11767             54.80%                 21                        9.90%   \n",
       "2966              33.00%                  1                        1.00%   \n",
       "2440                   s                 s                             s   \n",
       "15073             26.30%                 41                       10.10%   \n",
       "10301                  s                 s                             s   \n",
       "\n",
       "      Dropped Out Num Dropped Out Pct of cohort  \n",
       "11767              56                    26.40%  \n",
       "2966                6                     5.90%  \n",
       "2440               s                          s  \n",
       "15073              15                     3.70%  \n",
       "10301              s                          s  \n",
       "\n",
       "[5 rows x 24 columns]"
      ]
     },
     "execution_count": 475,
     "metadata": {},
     "output_type": "execute_result"
    }
   ],
   "source": [
    "# shows 5 random rows from my dataset\n",
    "df.sample(5)"
   ]
  },
  {
   "cell_type": "markdown",
   "metadata": {},
   "source": [
    "Here are the names of all the columns in my dataset and their data types. The majority are \"objects\" because they are strings. I will convert these in later cells."
   ]
  },
  {
   "cell_type": "code",
   "execution_count": 476,
   "metadata": {},
   "outputs": [
    {
     "name": "stdout",
     "output_type": "stream",
     "text": [
      "<class 'pandas.core.frame.DataFrame'>\n",
      "RangeIndex: 15518 entries, 0 to 15517\n",
      "Data columns (total 24 columns):\n",
      " #   Column                              Non-Null Count  Dtype \n",
      "---  ------                              --------------  ----- \n",
      " 0   DBN                                 15518 non-null  object\n",
      " 1   School Name                         15518 non-null  object\n",
      " 2   Cohort Year                         15518 non-null  int64 \n",
      " 3   Cohort Category                     15518 non-null  object\n",
      " 4   Demographic                         15518 non-null  object\n",
      " 5   Total Cohort Num                    15518 non-null  int64 \n",
      " 6   Total Grads Num                     15518 non-null  object\n",
      " 7   Total Grads Pct of cohort           15518 non-null  object\n",
      " 8   Total Regents Num                   15518 non-null  object\n",
      " 9   Total Regents Pct of cohort         15518 non-null  object\n",
      " 10  Total Regents Pct of grads          15498 non-null  object\n",
      " 11  Advanced Regents Num                15518 non-null  object\n",
      " 12  Advanced Regents Pct of cohort      15518 non-null  object\n",
      " 13  Advanced Regents Pct of grads       15498 non-null  object\n",
      " 14  Regents w/o Advanced Num            15518 non-null  object\n",
      " 15  Regents w/o Advanced Pct of cohort  15518 non-null  object\n",
      " 16  Regents w/o Advanced Pct of grads   15498 non-null  object\n",
      " 17  Local Num                           15518 non-null  object\n",
      " 18  Local Pct of cohort                 15518 non-null  object\n",
      " 19  Local Pct of grads                  15498 non-null  object\n",
      " 20  Still Enrolled Num                  15518 non-null  object\n",
      " 21  Still Enrolled Pct of cohort        15518 non-null  object\n",
      " 22  Dropped Out Num                     15518 non-null  object\n",
      " 23  Dropped Out Pct of cohort           15518 non-null  object\n",
      "dtypes: int64(2), object(22)\n",
      "memory usage: 2.8+ MB\n"
     ]
    }
   ],
   "source": [
    "# show each of the column names and their data types\n",
    "df.info()"
   ]
  },
  {
   "cell_type": "markdown",
   "metadata": {},
   "source": [
    "In my dataset, there are 467 unique schools."
   ]
  },
  {
   "cell_type": "code",
   "execution_count": 477,
   "metadata": {},
   "outputs": [
    {
     "data": {
      "text/plain": [
       "467"
      ]
     },
     "execution_count": 477,
     "metadata": {},
     "output_type": "execute_result"
    }
   ],
   "source": [
    "# number of distinct schools = 467\n",
    "len(df['School Name'].unique())"
   ]
  },
  {
   "cell_type": "markdown",
   "metadata": {},
   "source": [
    "This is not evident on first glance since, as we can see below, the schools are repeated several times based on the Cohort Year, the gender of the students, etc."
   ]
  },
  {
   "cell_type": "code",
   "execution_count": 478,
   "metadata": {},
   "outputs": [
    {
     "data": {
      "text/html": [
       "<div>\n",
       "<style scoped>\n",
       "    .dataframe tbody tr th:only-of-type {\n",
       "        vertical-align: middle;\n",
       "    }\n",
       "\n",
       "    .dataframe tbody tr th {\n",
       "        vertical-align: top;\n",
       "    }\n",
       "\n",
       "    .dataframe thead th {\n",
       "        text-align: right;\n",
       "    }\n",
       "</style>\n",
       "<table border=\"1\" class=\"dataframe\">\n",
       "  <thead>\n",
       "    <tr style=\"text-align: right;\">\n",
       "      <th></th>\n",
       "      <th>DBN</th>\n",
       "      <th>School Name</th>\n",
       "      <th>Cohort Year</th>\n",
       "      <th>Cohort Category</th>\n",
       "      <th>Demographic</th>\n",
       "      <th>Total Cohort Num</th>\n",
       "      <th>Total Grads Num</th>\n",
       "      <th>Total Grads Pct of cohort</th>\n",
       "      <th>Total Regents Num</th>\n",
       "      <th>Total Regents Pct of cohort</th>\n",
       "      <th>...</th>\n",
       "      <th>Regents w/o Advanced Num</th>\n",
       "      <th>Regents w/o Advanced Pct of cohort</th>\n",
       "      <th>Regents w/o Advanced Pct of grads</th>\n",
       "      <th>Local Num</th>\n",
       "      <th>Local Pct of cohort</th>\n",
       "      <th>Local Pct of grads</th>\n",
       "      <th>Still Enrolled Num</th>\n",
       "      <th>Still Enrolled Pct of cohort</th>\n",
       "      <th>Dropped Out Num</th>\n",
       "      <th>Dropped Out Pct of cohort</th>\n",
       "    </tr>\n",
       "  </thead>\n",
       "  <tbody>\n",
       "    <tr>\n",
       "      <th>0</th>\n",
       "      <td>01M056</td>\n",
       "      <td>CORLEARS SCHOOL</td>\n",
       "      <td>2001</td>\n",
       "      <td>4 Year  June</td>\n",
       "      <td>Male</td>\n",
       "      <td>1</td>\n",
       "      <td>s</td>\n",
       "      <td>s</td>\n",
       "      <td>s</td>\n",
       "      <td>s</td>\n",
       "      <td>...</td>\n",
       "      <td>s</td>\n",
       "      <td>s</td>\n",
       "      <td>s</td>\n",
       "      <td>s</td>\n",
       "      <td>s</td>\n",
       "      <td>s</td>\n",
       "      <td>s</td>\n",
       "      <td>s</td>\n",
       "      <td>s</td>\n",
       "      <td>s</td>\n",
       "    </tr>\n",
       "    <tr>\n",
       "      <th>1</th>\n",
       "      <td>01M056</td>\n",
       "      <td>CORLEARS SCHOOL</td>\n",
       "      <td>2001</td>\n",
       "      <td>5 Year</td>\n",
       "      <td>Male</td>\n",
       "      <td>1</td>\n",
       "      <td>s</td>\n",
       "      <td>s</td>\n",
       "      <td>s</td>\n",
       "      <td>s</td>\n",
       "      <td>...</td>\n",
       "      <td>s</td>\n",
       "      <td>s</td>\n",
       "      <td>s</td>\n",
       "      <td>s</td>\n",
       "      <td>s</td>\n",
       "      <td>s</td>\n",
       "      <td>s</td>\n",
       "      <td>s</td>\n",
       "      <td>s</td>\n",
       "      <td>s</td>\n",
       "    </tr>\n",
       "    <tr>\n",
       "      <th>2</th>\n",
       "      <td>01M056</td>\n",
       "      <td>CORLEARS SCHOOL</td>\n",
       "      <td>2001</td>\n",
       "      <td>6 Year</td>\n",
       "      <td>Male</td>\n",
       "      <td>1</td>\n",
       "      <td>s</td>\n",
       "      <td>s</td>\n",
       "      <td>s</td>\n",
       "      <td>s</td>\n",
       "      <td>...</td>\n",
       "      <td>s</td>\n",
       "      <td>s</td>\n",
       "      <td>s</td>\n",
       "      <td>s</td>\n",
       "      <td>s</td>\n",
       "      <td>s</td>\n",
       "      <td>s</td>\n",
       "      <td>s</td>\n",
       "      <td>s</td>\n",
       "      <td>s</td>\n",
       "    </tr>\n",
       "    <tr>\n",
       "      <th>3</th>\n",
       "      <td>01M056</td>\n",
       "      <td>CORLEARS SCHOOL</td>\n",
       "      <td>2003</td>\n",
       "      <td>4 Year  June</td>\n",
       "      <td>Male</td>\n",
       "      <td>1</td>\n",
       "      <td>s</td>\n",
       "      <td>s</td>\n",
       "      <td>s</td>\n",
       "      <td>s</td>\n",
       "      <td>...</td>\n",
       "      <td>s</td>\n",
       "      <td>s</td>\n",
       "      <td>s</td>\n",
       "      <td>s</td>\n",
       "      <td>s</td>\n",
       "      <td>s</td>\n",
       "      <td>s</td>\n",
       "      <td>s</td>\n",
       "      <td>s</td>\n",
       "      <td>s</td>\n",
       "    </tr>\n",
       "    <tr>\n",
       "      <th>4</th>\n",
       "      <td>01M056</td>\n",
       "      <td>CORLEARS SCHOOL</td>\n",
       "      <td>2003</td>\n",
       "      <td>5 Year</td>\n",
       "      <td>Male</td>\n",
       "      <td>1</td>\n",
       "      <td>s</td>\n",
       "      <td>s</td>\n",
       "      <td>s</td>\n",
       "      <td>s</td>\n",
       "      <td>...</td>\n",
       "      <td>s</td>\n",
       "      <td>s</td>\n",
       "      <td>s</td>\n",
       "      <td>s</td>\n",
       "      <td>s</td>\n",
       "      <td>s</td>\n",
       "      <td>s</td>\n",
       "      <td>s</td>\n",
       "      <td>s</td>\n",
       "      <td>s</td>\n",
       "    </tr>\n",
       "    <tr>\n",
       "      <th>5</th>\n",
       "      <td>01M056</td>\n",
       "      <td>CORLEARS SCHOOL</td>\n",
       "      <td>2003</td>\n",
       "      <td>6 Year</td>\n",
       "      <td>Male</td>\n",
       "      <td>1</td>\n",
       "      <td>s</td>\n",
       "      <td>s</td>\n",
       "      <td>s</td>\n",
       "      <td>s</td>\n",
       "      <td>...</td>\n",
       "      <td>s</td>\n",
       "      <td>s</td>\n",
       "      <td>s</td>\n",
       "      <td>s</td>\n",
       "      <td>s</td>\n",
       "      <td>s</td>\n",
       "      <td>s</td>\n",
       "      <td>s</td>\n",
       "      <td>s</td>\n",
       "      <td>s</td>\n",
       "    </tr>\n",
       "    <tr>\n",
       "      <th>6</th>\n",
       "      <td>01M292</td>\n",
       "      <td>HENRY STREET SCHOOL FOR INTERNATIONAL STUDIES</td>\n",
       "      <td>2003</td>\n",
       "      <td>4 Year  June</td>\n",
       "      <td>Female</td>\n",
       "      <td>1</td>\n",
       "      <td>s</td>\n",
       "      <td>s</td>\n",
       "      <td>s</td>\n",
       "      <td>s</td>\n",
       "      <td>...</td>\n",
       "      <td>s</td>\n",
       "      <td>s</td>\n",
       "      <td>s</td>\n",
       "      <td>s</td>\n",
       "      <td>s</td>\n",
       "      <td>s</td>\n",
       "      <td>s</td>\n",
       "      <td>s</td>\n",
       "      <td>s</td>\n",
       "      <td>s</td>\n",
       "    </tr>\n",
       "    <tr>\n",
       "      <th>7</th>\n",
       "      <td>01M292</td>\n",
       "      <td>HENRY STREET SCHOOL FOR INTERNATIONAL STUDIES</td>\n",
       "      <td>2003</td>\n",
       "      <td>5 Year</td>\n",
       "      <td>Female</td>\n",
       "      <td>1</td>\n",
       "      <td>s</td>\n",
       "      <td>s</td>\n",
       "      <td>s</td>\n",
       "      <td>s</td>\n",
       "      <td>...</td>\n",
       "      <td>s</td>\n",
       "      <td>s</td>\n",
       "      <td>s</td>\n",
       "      <td>s</td>\n",
       "      <td>s</td>\n",
       "      <td>s</td>\n",
       "      <td>s</td>\n",
       "      <td>s</td>\n",
       "      <td>s</td>\n",
       "      <td>s</td>\n",
       "    </tr>\n",
       "    <tr>\n",
       "      <th>8</th>\n",
       "      <td>01M292</td>\n",
       "      <td>HENRY STREET SCHOOL FOR INTERNATIONAL STUDIES</td>\n",
       "      <td>2003</td>\n",
       "      <td>6 Year</td>\n",
       "      <td>Female</td>\n",
       "      <td>1</td>\n",
       "      <td>s</td>\n",
       "      <td>s</td>\n",
       "      <td>s</td>\n",
       "      <td>s</td>\n",
       "      <td>...</td>\n",
       "      <td>s</td>\n",
       "      <td>s</td>\n",
       "      <td>s</td>\n",
       "      <td>s</td>\n",
       "      <td>s</td>\n",
       "      <td>s</td>\n",
       "      <td>s</td>\n",
       "      <td>s</td>\n",
       "      <td>s</td>\n",
       "      <td>s</td>\n",
       "    </tr>\n",
       "    <tr>\n",
       "      <th>9</th>\n",
       "      <td>01M292</td>\n",
       "      <td>HENRY STREET SCHOOL FOR INTERNATIONAL STUDIES</td>\n",
       "      <td>2004</td>\n",
       "      <td>4 Year  June</td>\n",
       "      <td>Female</td>\n",
       "      <td>28</td>\n",
       "      <td>18</td>\n",
       "      <td>64.30%</td>\n",
       "      <td>8</td>\n",
       "      <td>28.60%</td>\n",
       "      <td>...</td>\n",
       "      <td>8</td>\n",
       "      <td>28.60%</td>\n",
       "      <td>44.40%</td>\n",
       "      <td>10</td>\n",
       "      <td>35.70%</td>\n",
       "      <td>55.60%</td>\n",
       "      <td>9</td>\n",
       "      <td>32.10%</td>\n",
       "      <td>1</td>\n",
       "      <td>3.60%</td>\n",
       "    </tr>\n",
       "  </tbody>\n",
       "</table>\n",
       "<p>10 rows × 24 columns</p>\n",
       "</div>"
      ],
      "text/plain": [
       "      DBN                                    School Name  Cohort Year  \\\n",
       "0  01M056                                CORLEARS SCHOOL         2001   \n",
       "1  01M056                                CORLEARS SCHOOL         2001   \n",
       "2  01M056                                CORLEARS SCHOOL         2001   \n",
       "3  01M056                                CORLEARS SCHOOL         2003   \n",
       "4  01M056                                CORLEARS SCHOOL         2003   \n",
       "5  01M056                                CORLEARS SCHOOL         2003   \n",
       "6  01M292  HENRY STREET SCHOOL FOR INTERNATIONAL STUDIES         2003   \n",
       "7  01M292  HENRY STREET SCHOOL FOR INTERNATIONAL STUDIES         2003   \n",
       "8  01M292  HENRY STREET SCHOOL FOR INTERNATIONAL STUDIES         2003   \n",
       "9  01M292  HENRY STREET SCHOOL FOR INTERNATIONAL STUDIES         2004   \n",
       "\n",
       "  Cohort Category Demographic  Total Cohort Num Total Grads Num  \\\n",
       "0    4 Year  June        Male                 1              s    \n",
       "1          5 Year        Male                 1              s    \n",
       "2          6 Year        Male                 1              s    \n",
       "3    4 Year  June        Male                 1              s    \n",
       "4          5 Year        Male                 1              s    \n",
       "5          6 Year        Male                 1              s    \n",
       "6    4 Year  June      Female                 1              s    \n",
       "7          5 Year      Female                 1              s    \n",
       "8          6 Year      Female                 1              s    \n",
       "9    4 Year  June      Female                28              18   \n",
       "\n",
       "  Total Grads Pct of cohort Total Regents Num Total Regents Pct of cohort  \\\n",
       "0                         s                s                            s   \n",
       "1                         s                s                            s   \n",
       "2                         s                s                            s   \n",
       "3                         s                s                            s   \n",
       "4                         s                s                            s   \n",
       "5                         s                s                            s   \n",
       "6                         s                s                            s   \n",
       "7                         s                s                            s   \n",
       "8                         s                s                            s   \n",
       "9                    64.30%                 8                      28.60%   \n",
       "\n",
       "   ... Regents w/o Advanced Num Regents w/o Advanced Pct of cohort  \\\n",
       "0  ...                       s                                   s   \n",
       "1  ...                       s                                   s   \n",
       "2  ...                       s                                   s   \n",
       "3  ...                       s                                   s   \n",
       "4  ...                       s                                   s   \n",
       "5  ...                       s                                   s   \n",
       "6  ...                       s                                   s   \n",
       "7  ...                       s                                   s   \n",
       "8  ...                       s                                   s   \n",
       "9  ...                        8                             28.60%   \n",
       "\n",
       "  Regents w/o Advanced Pct of grads Local Num Local Pct of cohort  \\\n",
       "0                                 s        s                    s   \n",
       "1                                 s        s                    s   \n",
       "2                                 s        s                    s   \n",
       "3                                 s        s                    s   \n",
       "4                                 s        s                    s   \n",
       "5                                 s        s                    s   \n",
       "6                                 s        s                    s   \n",
       "7                                 s        s                    s   \n",
       "8                                 s        s                    s   \n",
       "9                            44.40%        10              35.70%   \n",
       "\n",
       "  Local Pct of grads Still Enrolled Num Still Enrolled Pct of cohort  \\\n",
       "0                  s                 s                             s   \n",
       "1                  s                 s                             s   \n",
       "2                  s                 s                             s   \n",
       "3                  s                 s                             s   \n",
       "4                  s                 s                             s   \n",
       "5                  s                 s                             s   \n",
       "6                  s                 s                             s   \n",
       "7                  s                 s                             s   \n",
       "8                  s                 s                             s   \n",
       "9             55.60%                  9                       32.10%   \n",
       "\n",
       "  Dropped Out Num Dropped Out Pct of cohort  \n",
       "0              s                          s  \n",
       "1              s                          s  \n",
       "2              s                          s  \n",
       "3              s                          s  \n",
       "4              s                          s  \n",
       "5              s                          s  \n",
       "6              s                          s  \n",
       "7              s                          s  \n",
       "8              s                          s  \n",
       "9               1                     3.60%  \n",
       "\n",
       "[10 rows x 24 columns]"
      ]
     },
     "execution_count": 478,
     "metadata": {},
     "output_type": "execute_result"
    }
   ],
   "source": [
    "df.head(10)"
   ]
  },
  {
   "cell_type": "markdown",
   "metadata": {},
   "source": [
    "The main columns of interest are \"Demographic\" with the students' gender and the graduation rate \"Total Grads Pct of cohort\". However, some of the columns also include data about students who took the Regents exams, which is an exam mandatory for high school students attending public schools in New York. This dataset may include public schools, but that information is not specified in the website that the dataset was pulled from."
   ]
  },
  {
   "cell_type": "markdown",
   "metadata": {},
   "source": [
    "## Data munging\n",
    "Place your **data munging** code and documentation within this section.  \n",
    "- Keep each of your Code cells short and focused on a single task.  \n",
    "- Include a Markdown cell above each code cell that describes what task the code within the code cell is performing.\n",
    "- Make as many code cells as you need to complete the munging - a few have been created for you to start with.\n",
    "- Display 5 sample rows of the modified data after each transformation so a viewer can see how the data has changed.\n",
    "\n",
    "**Note**: If you believe that your data set does not require any munging, please explain in detail.  Create Markdown cells that explain your thinking and create Code cells that show any specific structures of the data you refer to in your explanation."
   ]
  },
  {
   "cell_type": "markdown",
   "metadata": {},
   "source": [
    "Overall, my dataset was fairly clean and well-organized. But, I wanted to clean up some of the formatting, remove missing values, and add a column indicating whether the school is co-ed, all-girls, or all-boys to clean up the \"Demographic\" column.\n",
    "\n",
    "What I did:\n",
    "- Change School Name to be in title format, not all upper case\n",
    "- Remove rows that had \"s\" or \"-\" as missing values\n",
    "- Convert all the \"object\" dtype columns to strings\n",
    "- If percentage values had a percentage sign, I removed the percentage sign\n",
    "- Convert all the numbers to floats or ints\n",
    "- Create a column called \"School Type\" with whether the school is Co-Ed, All-Girls, or All-Boys"
   ]
  },
  {
   "cell_type": "markdown",
   "metadata": {},
   "source": [
    "Firstly, I changed the school names to be in title format so that they're not entirely in upper case."
   ]
  },
  {
   "cell_type": "code",
   "execution_count": 479,
   "metadata": {},
   "outputs": [],
   "source": [
    "df[\"School Name\"] = df[\"School Name\"].apply(lambda x: x.title())"
   ]
  },
  {
   "cell_type": "markdown",
   "metadata": {},
   "source": [
    "Below we see the title-formatted school names in the \"School Name\" column:"
   ]
  },
  {
   "cell_type": "code",
   "execution_count": 480,
   "metadata": {},
   "outputs": [
    {
     "data": {
      "text/html": [
       "<div>\n",
       "<style scoped>\n",
       "    .dataframe tbody tr th:only-of-type {\n",
       "        vertical-align: middle;\n",
       "    }\n",
       "\n",
       "    .dataframe tbody tr th {\n",
       "        vertical-align: top;\n",
       "    }\n",
       "\n",
       "    .dataframe thead th {\n",
       "        text-align: right;\n",
       "    }\n",
       "</style>\n",
       "<table border=\"1\" class=\"dataframe\">\n",
       "  <thead>\n",
       "    <tr style=\"text-align: right;\">\n",
       "      <th></th>\n",
       "      <th>DBN</th>\n",
       "      <th>School Name</th>\n",
       "      <th>Cohort Year</th>\n",
       "      <th>Cohort Category</th>\n",
       "      <th>Demographic</th>\n",
       "      <th>Total Cohort Num</th>\n",
       "      <th>Total Grads Num</th>\n",
       "      <th>Total Grads Pct of cohort</th>\n",
       "      <th>Total Regents Num</th>\n",
       "      <th>Total Regents Pct of cohort</th>\n",
       "      <th>...</th>\n",
       "      <th>Regents w/o Advanced Num</th>\n",
       "      <th>Regents w/o Advanced Pct of cohort</th>\n",
       "      <th>Regents w/o Advanced Pct of grads</th>\n",
       "      <th>Local Num</th>\n",
       "      <th>Local Pct of cohort</th>\n",
       "      <th>Local Pct of grads</th>\n",
       "      <th>Still Enrolled Num</th>\n",
       "      <th>Still Enrolled Pct of cohort</th>\n",
       "      <th>Dropped Out Num</th>\n",
       "      <th>Dropped Out Pct of cohort</th>\n",
       "    </tr>\n",
       "  </thead>\n",
       "  <tbody>\n",
       "    <tr>\n",
       "      <th>0</th>\n",
       "      <td>01M056</td>\n",
       "      <td>Corlears School</td>\n",
       "      <td>2001</td>\n",
       "      <td>4 Year  June</td>\n",
       "      <td>Male</td>\n",
       "      <td>1</td>\n",
       "      <td>s</td>\n",
       "      <td>s</td>\n",
       "      <td>s</td>\n",
       "      <td>s</td>\n",
       "      <td>...</td>\n",
       "      <td>s</td>\n",
       "      <td>s</td>\n",
       "      <td>s</td>\n",
       "      <td>s</td>\n",
       "      <td>s</td>\n",
       "      <td>s</td>\n",
       "      <td>s</td>\n",
       "      <td>s</td>\n",
       "      <td>s</td>\n",
       "      <td>s</td>\n",
       "    </tr>\n",
       "    <tr>\n",
       "      <th>1</th>\n",
       "      <td>01M056</td>\n",
       "      <td>Corlears School</td>\n",
       "      <td>2001</td>\n",
       "      <td>5 Year</td>\n",
       "      <td>Male</td>\n",
       "      <td>1</td>\n",
       "      <td>s</td>\n",
       "      <td>s</td>\n",
       "      <td>s</td>\n",
       "      <td>s</td>\n",
       "      <td>...</td>\n",
       "      <td>s</td>\n",
       "      <td>s</td>\n",
       "      <td>s</td>\n",
       "      <td>s</td>\n",
       "      <td>s</td>\n",
       "      <td>s</td>\n",
       "      <td>s</td>\n",
       "      <td>s</td>\n",
       "      <td>s</td>\n",
       "      <td>s</td>\n",
       "    </tr>\n",
       "    <tr>\n",
       "      <th>2</th>\n",
       "      <td>01M056</td>\n",
       "      <td>Corlears School</td>\n",
       "      <td>2001</td>\n",
       "      <td>6 Year</td>\n",
       "      <td>Male</td>\n",
       "      <td>1</td>\n",
       "      <td>s</td>\n",
       "      <td>s</td>\n",
       "      <td>s</td>\n",
       "      <td>s</td>\n",
       "      <td>...</td>\n",
       "      <td>s</td>\n",
       "      <td>s</td>\n",
       "      <td>s</td>\n",
       "      <td>s</td>\n",
       "      <td>s</td>\n",
       "      <td>s</td>\n",
       "      <td>s</td>\n",
       "      <td>s</td>\n",
       "      <td>s</td>\n",
       "      <td>s</td>\n",
       "    </tr>\n",
       "    <tr>\n",
       "      <th>3</th>\n",
       "      <td>01M056</td>\n",
       "      <td>Corlears School</td>\n",
       "      <td>2003</td>\n",
       "      <td>4 Year  June</td>\n",
       "      <td>Male</td>\n",
       "      <td>1</td>\n",
       "      <td>s</td>\n",
       "      <td>s</td>\n",
       "      <td>s</td>\n",
       "      <td>s</td>\n",
       "      <td>...</td>\n",
       "      <td>s</td>\n",
       "      <td>s</td>\n",
       "      <td>s</td>\n",
       "      <td>s</td>\n",
       "      <td>s</td>\n",
       "      <td>s</td>\n",
       "      <td>s</td>\n",
       "      <td>s</td>\n",
       "      <td>s</td>\n",
       "      <td>s</td>\n",
       "    </tr>\n",
       "    <tr>\n",
       "      <th>4</th>\n",
       "      <td>01M056</td>\n",
       "      <td>Corlears School</td>\n",
       "      <td>2003</td>\n",
       "      <td>5 Year</td>\n",
       "      <td>Male</td>\n",
       "      <td>1</td>\n",
       "      <td>s</td>\n",
       "      <td>s</td>\n",
       "      <td>s</td>\n",
       "      <td>s</td>\n",
       "      <td>...</td>\n",
       "      <td>s</td>\n",
       "      <td>s</td>\n",
       "      <td>s</td>\n",
       "      <td>s</td>\n",
       "      <td>s</td>\n",
       "      <td>s</td>\n",
       "      <td>s</td>\n",
       "      <td>s</td>\n",
       "      <td>s</td>\n",
       "      <td>s</td>\n",
       "    </tr>\n",
       "  </tbody>\n",
       "</table>\n",
       "<p>5 rows × 24 columns</p>\n",
       "</div>"
      ],
      "text/plain": [
       "      DBN      School Name  Cohort Year Cohort Category Demographic  \\\n",
       "0  01M056  Corlears School         2001    4 Year  June        Male   \n",
       "1  01M056  Corlears School         2001          5 Year        Male   \n",
       "2  01M056  Corlears School         2001          6 Year        Male   \n",
       "3  01M056  Corlears School         2003    4 Year  June        Male   \n",
       "4  01M056  Corlears School         2003          5 Year        Male   \n",
       "\n",
       "   Total Cohort Num Total Grads Num Total Grads Pct of cohort  \\\n",
       "0                 1              s                          s   \n",
       "1                 1              s                          s   \n",
       "2                 1              s                          s   \n",
       "3                 1              s                          s   \n",
       "4                 1              s                          s   \n",
       "\n",
       "  Total Regents Num Total Regents Pct of cohort  ... Regents w/o Advanced Num  \\\n",
       "0                s                            s  ...                       s    \n",
       "1                s                            s  ...                       s    \n",
       "2                s                            s  ...                       s    \n",
       "3                s                            s  ...                       s    \n",
       "4                s                            s  ...                       s    \n",
       "\n",
       "  Regents w/o Advanced Pct of cohort Regents w/o Advanced Pct of grads  \\\n",
       "0                                  s                                 s   \n",
       "1                                  s                                 s   \n",
       "2                                  s                                 s   \n",
       "3                                  s                                 s   \n",
       "4                                  s                                 s   \n",
       "\n",
       "  Local Num Local Pct of cohort Local Pct of grads Still Enrolled Num  \\\n",
       "0        s                    s                  s                 s    \n",
       "1        s                    s                  s                 s    \n",
       "2        s                    s                  s                 s    \n",
       "3        s                    s                  s                 s    \n",
       "4        s                    s                  s                 s    \n",
       "\n",
       "  Still Enrolled Pct of cohort Dropped Out Num Dropped Out Pct of cohort  \n",
       "0                            s              s                          s  \n",
       "1                            s              s                          s  \n",
       "2                            s              s                          s  \n",
       "3                            s              s                          s  \n",
       "4                            s              s                          s  \n",
       "\n",
       "[5 rows x 24 columns]"
      ]
     },
     "execution_count": 480,
     "metadata": {},
     "output_type": "execute_result"
    }
   ],
   "source": [
    "df.head()"
   ]
  },
  {
   "cell_type": "markdown",
   "metadata": {},
   "source": [
    "Let us check the shape of the dataset before removing any missing values/rows. It has 15,518 rows."
   ]
  },
  {
   "cell_type": "code",
   "execution_count": 481,
   "metadata": {},
   "outputs": [
    {
     "data": {
      "text/plain": [
       "(15518, 24)"
      ]
     },
     "execution_count": 481,
     "metadata": {},
     "output_type": "execute_result"
    }
   ],
   "source": [
    "# original shape of the dataset\n",
    "df.shape"
   ]
  },
  {
   "cell_type": "markdown",
   "metadata": {},
   "source": [
    "Using a `lambda` function, I find all the rows where there's a missing value marked as `s`, and remove using the apply function and `~`."
   ]
  },
  {
   "cell_type": "code",
   "execution_count": 482,
   "metadata": {},
   "outputs": [],
   "source": [
    "# remove all the schools that have \"s\" or \"-\" as missing values\n",
    "df = df[~df.apply(lambda x: (x == \"s\")).any(axis=1)]"
   ]
  },
  {
   "cell_type": "markdown",
   "metadata": {},
   "source": [
    "Here is the new output. We see the rows start at index 9 instead of 0 since the first several rows had missing values."
   ]
  },
  {
   "cell_type": "code",
   "execution_count": 483,
   "metadata": {
    "scrolled": true
   },
   "outputs": [
    {
     "data": {
      "text/html": [
       "<div>\n",
       "<style scoped>\n",
       "    .dataframe tbody tr th:only-of-type {\n",
       "        vertical-align: middle;\n",
       "    }\n",
       "\n",
       "    .dataframe tbody tr th {\n",
       "        vertical-align: top;\n",
       "    }\n",
       "\n",
       "    .dataframe thead th {\n",
       "        text-align: right;\n",
       "    }\n",
       "</style>\n",
       "<table border=\"1\" class=\"dataframe\">\n",
       "  <thead>\n",
       "    <tr style=\"text-align: right;\">\n",
       "      <th></th>\n",
       "      <th>DBN</th>\n",
       "      <th>School Name</th>\n",
       "      <th>Cohort Year</th>\n",
       "      <th>Cohort Category</th>\n",
       "      <th>Demographic</th>\n",
       "      <th>Total Cohort Num</th>\n",
       "      <th>Total Grads Num</th>\n",
       "      <th>Total Grads Pct of cohort</th>\n",
       "      <th>Total Regents Num</th>\n",
       "      <th>Total Regents Pct of cohort</th>\n",
       "      <th>...</th>\n",
       "      <th>Regents w/o Advanced Num</th>\n",
       "      <th>Regents w/o Advanced Pct of cohort</th>\n",
       "      <th>Regents w/o Advanced Pct of grads</th>\n",
       "      <th>Local Num</th>\n",
       "      <th>Local Pct of cohort</th>\n",
       "      <th>Local Pct of grads</th>\n",
       "      <th>Still Enrolled Num</th>\n",
       "      <th>Still Enrolled Pct of cohort</th>\n",
       "      <th>Dropped Out Num</th>\n",
       "      <th>Dropped Out Pct of cohort</th>\n",
       "    </tr>\n",
       "  </thead>\n",
       "  <tbody>\n",
       "    <tr>\n",
       "      <th>9</th>\n",
       "      <td>01M292</td>\n",
       "      <td>Henry Street School For International Studies</td>\n",
       "      <td>2004</td>\n",
       "      <td>4 Year  June</td>\n",
       "      <td>Female</td>\n",
       "      <td>28</td>\n",
       "      <td>18</td>\n",
       "      <td>64.30%</td>\n",
       "      <td>8</td>\n",
       "      <td>28.60%</td>\n",
       "      <td>...</td>\n",
       "      <td>8</td>\n",
       "      <td>28.60%</td>\n",
       "      <td>44.40%</td>\n",
       "      <td>10</td>\n",
       "      <td>35.70%</td>\n",
       "      <td>55.60%</td>\n",
       "      <td>9</td>\n",
       "      <td>32.10%</td>\n",
       "      <td>1</td>\n",
       "      <td>3.60%</td>\n",
       "    </tr>\n",
       "    <tr>\n",
       "      <th>10</th>\n",
       "      <td>01M292</td>\n",
       "      <td>Henry Street School For International Studies</td>\n",
       "      <td>2004</td>\n",
       "      <td>5 Year</td>\n",
       "      <td>Female</td>\n",
       "      <td>30</td>\n",
       "      <td>19</td>\n",
       "      <td>63.30%</td>\n",
       "      <td>8</td>\n",
       "      <td>26.70%</td>\n",
       "      <td>...</td>\n",
       "      <td>8</td>\n",
       "      <td>26.70%</td>\n",
       "      <td>42.10%</td>\n",
       "      <td>11</td>\n",
       "      <td>36.70%</td>\n",
       "      <td>57.90%</td>\n",
       "      <td>2</td>\n",
       "      <td>6.70%</td>\n",
       "      <td>8</td>\n",
       "      <td>26.70%</td>\n",
       "    </tr>\n",
       "    <tr>\n",
       "      <th>11</th>\n",
       "      <td>01M292</td>\n",
       "      <td>Henry Street School For International Studies</td>\n",
       "      <td>2004</td>\n",
       "      <td>6 Year</td>\n",
       "      <td>Female</td>\n",
       "      <td>28</td>\n",
       "      <td>20</td>\n",
       "      <td>71.40%</td>\n",
       "      <td>8</td>\n",
       "      <td>28.60%</td>\n",
       "      <td>...</td>\n",
       "      <td>8</td>\n",
       "      <td>28.60%</td>\n",
       "      <td>40.00%</td>\n",
       "      <td>12</td>\n",
       "      <td>42.90%</td>\n",
       "      <td>60.00%</td>\n",
       "      <td>1</td>\n",
       "      <td>3.60%</td>\n",
       "      <td>7</td>\n",
       "      <td>25.00%</td>\n",
       "    </tr>\n",
       "    <tr>\n",
       "      <th>12</th>\n",
       "      <td>01M292</td>\n",
       "      <td>Henry Street School For International Studies</td>\n",
       "      <td>2005</td>\n",
       "      <td>4 Year  June</td>\n",
       "      <td>Female</td>\n",
       "      <td>25</td>\n",
       "      <td>20</td>\n",
       "      <td>80.00%</td>\n",
       "      <td>13</td>\n",
       "      <td>52.00%</td>\n",
       "      <td>...</td>\n",
       "      <td>13</td>\n",
       "      <td>52.00%</td>\n",
       "      <td>65.00%</td>\n",
       "      <td>7</td>\n",
       "      <td>28.00%</td>\n",
       "      <td>35.00%</td>\n",
       "      <td>-</td>\n",
       "      <td>0.00%</td>\n",
       "      <td>5</td>\n",
       "      <td>20.00%</td>\n",
       "    </tr>\n",
       "    <tr>\n",
       "      <th>13</th>\n",
       "      <td>01M292</td>\n",
       "      <td>Henry Street School For International Studies</td>\n",
       "      <td>2005</td>\n",
       "      <td>4 Year August</td>\n",
       "      <td>Female</td>\n",
       "      <td>25</td>\n",
       "      <td>20</td>\n",
       "      <td>80.00%</td>\n",
       "      <td>13</td>\n",
       "      <td>52.00%</td>\n",
       "      <td>...</td>\n",
       "      <td>13</td>\n",
       "      <td>52.00%</td>\n",
       "      <td>65.00%</td>\n",
       "      <td>7</td>\n",
       "      <td>28.00%</td>\n",
       "      <td>35.00%</td>\n",
       "      <td>-</td>\n",
       "      <td>0.00%</td>\n",
       "      <td>5</td>\n",
       "      <td>20.00%</td>\n",
       "    </tr>\n",
       "  </tbody>\n",
       "</table>\n",
       "<p>5 rows × 24 columns</p>\n",
       "</div>"
      ],
      "text/plain": [
       "       DBN                                    School Name  Cohort Year  \\\n",
       "9   01M292  Henry Street School For International Studies         2004   \n",
       "10  01M292  Henry Street School For International Studies         2004   \n",
       "11  01M292  Henry Street School For International Studies         2004   \n",
       "12  01M292  Henry Street School For International Studies         2005   \n",
       "13  01M292  Henry Street School For International Studies         2005   \n",
       "\n",
       "   Cohort Category Demographic  Total Cohort Num Total Grads Num  \\\n",
       "9     4 Year  June      Female                28              18   \n",
       "10          5 Year      Female                30              19   \n",
       "11          6 Year      Female                28              20   \n",
       "12    4 Year  June      Female                25              20   \n",
       "13   4 Year August      Female                25              20   \n",
       "\n",
       "   Total Grads Pct of cohort Total Regents Num Total Regents Pct of cohort  \\\n",
       "9                     64.30%                 8                      28.60%   \n",
       "10                    63.30%                 8                      26.70%   \n",
       "11                    71.40%                 8                      28.60%   \n",
       "12                    80.00%                13                      52.00%   \n",
       "13                    80.00%                13                      52.00%   \n",
       "\n",
       "    ... Regents w/o Advanced Num Regents w/o Advanced Pct of cohort  \\\n",
       "9   ...                        8                             28.60%   \n",
       "10  ...                        8                             26.70%   \n",
       "11  ...                        8                             28.60%   \n",
       "12  ...                       13                             52.00%   \n",
       "13  ...                       13                             52.00%   \n",
       "\n",
       "   Regents w/o Advanced Pct of grads Local Num Local Pct of cohort  \\\n",
       "9                             44.40%        10              35.70%   \n",
       "10                            42.10%        11              36.70%   \n",
       "11                            40.00%        12              42.90%   \n",
       "12                            65.00%         7              28.00%   \n",
       "13                            65.00%         7              28.00%   \n",
       "\n",
       "   Local Pct of grads Still Enrolled Num Still Enrolled Pct of cohort  \\\n",
       "9              55.60%                  9                       32.10%   \n",
       "10             57.90%                  2                        6.70%   \n",
       "11             60.00%                  1                        3.60%   \n",
       "12             35.00%               -                           0.00%   \n",
       "13             35.00%               -                           0.00%   \n",
       "\n",
       "   Dropped Out Num Dropped Out Pct of cohort  \n",
       "9                1                     3.60%  \n",
       "10               8                    26.70%  \n",
       "11               7                    25.00%  \n",
       "12               5                    20.00%  \n",
       "13               5                    20.00%  \n",
       "\n",
       "[5 rows x 24 columns]"
      ]
     },
     "execution_count": 483,
     "metadata": {},
     "output_type": "execute_result"
    }
   ],
   "source": [
    "df.head()"
   ]
  },
  {
   "cell_type": "markdown",
   "metadata": {},
   "source": [
    "Here we check the new size. We now have 13,245 rows. A large amount of rows was removed, but overall not too much data loss."
   ]
  },
  {
   "cell_type": "code",
   "execution_count": 484,
   "metadata": {},
   "outputs": [
    {
     "data": {
      "text/plain": [
       "(13245, 24)"
      ]
     },
     "execution_count": 484,
     "metadata": {},
     "output_type": "execute_result"
    }
   ],
   "source": [
    "df.shape\n",
    "# check new size."
   ]
  },
  {
   "cell_type": "markdown",
   "metadata": {},
   "source": [
    "Now we repeat the same removal method of missing values using the `lambda` function, but removing `-` values."
   ]
  },
  {
   "cell_type": "code",
   "execution_count": 485,
   "metadata": {},
   "outputs": [],
   "source": [
    "df = df[~df.apply(lambda x: (x == \" -   \")).any(axis=1)] # remove \"-\""
   ]
  },
  {
   "cell_type": "markdown",
   "metadata": {},
   "source": [
    "We check the size again. We now have 6676 rows. Over half of the rows were removed due to this. This is a significant amount of data loss. "
   ]
  },
  {
   "cell_type": "code",
   "execution_count": 486,
   "metadata": {},
   "outputs": [
    {
     "data": {
      "text/plain": [
       "(6676, 24)"
      ]
     },
     "execution_count": 486,
     "metadata": {},
     "output_type": "execute_result"
    }
   ],
   "source": [
    "df.shape \n",
    "# check new size."
   ]
  },
  {
   "cell_type": "markdown",
   "metadata": {},
   "source": [
    "But as we see here, there are still 319 unique schools in our dataset out of 467. So while we lost a lot of data, we still have the majority of schools in our dataset to analyze."
   ]
  },
  {
   "cell_type": "code",
   "execution_count": 487,
   "metadata": {},
   "outputs": [
    {
     "data": {
      "text/plain": [
       "319"
      ]
     },
     "execution_count": 487,
     "metadata": {},
     "output_type": "execute_result"
    }
   ],
   "source": [
    "len(df['School Name'].unique())\n",
    "# majority of schools still in our dataset. significant loss of data, but let's analyze from here"
   ]
  },
  {
   "cell_type": "markdown",
   "metadata": {},
   "source": [
    "Now we convert all the data types of the columns that were of \"object\" type to strings to make sure they are all in string format."
   ]
  },
  {
   "cell_type": "code",
   "execution_count": 488,
   "metadata": {},
   "outputs": [
    {
     "name": "stdout",
     "output_type": "stream",
     "text": [
      "<class 'pandas.core.frame.DataFrame'>\n",
      "Int64Index: 6676 entries, 38 to 15471\n",
      "Data columns (total 24 columns):\n",
      " #   Column                              Non-Null Count  Dtype \n",
      "---  ------                              --------------  ----- \n",
      " 0   DBN                                 6676 non-null   object\n",
      " 1   School Name                         6676 non-null   object\n",
      " 2   Cohort Year                         6676 non-null   int64 \n",
      " 3   Cohort Category                     6676 non-null   object\n",
      " 4   Demographic                         6676 non-null   object\n",
      " 5   Total Cohort Num                    6676 non-null   int64 \n",
      " 6   Total Grads Num                     6676 non-null   object\n",
      " 7   Total Grads Pct of cohort           6676 non-null   object\n",
      " 8   Total Regents Num                   6676 non-null   object\n",
      " 9   Total Regents Pct of cohort         6676 non-null   object\n",
      " 10  Total Regents Pct of grads          6676 non-null   object\n",
      " 11  Advanced Regents Num                6676 non-null   object\n",
      " 12  Advanced Regents Pct of cohort      6676 non-null   object\n",
      " 13  Advanced Regents Pct of grads       6676 non-null   object\n",
      " 14  Regents w/o Advanced Num            6676 non-null   object\n",
      " 15  Regents w/o Advanced Pct of cohort  6676 non-null   object\n",
      " 16  Regents w/o Advanced Pct of grads   6676 non-null   object\n",
      " 17  Local Num                           6676 non-null   object\n",
      " 18  Local Pct of cohort                 6676 non-null   object\n",
      " 19  Local Pct of grads                  6676 non-null   object\n",
      " 20  Still Enrolled Num                  6676 non-null   object\n",
      " 21  Still Enrolled Pct of cohort        6676 non-null   object\n",
      " 22  Dropped Out Num                     6676 non-null   object\n",
      " 23  Dropped Out Pct of cohort           6676 non-null   object\n",
      "dtypes: int64(2), object(22)\n",
      "memory usage: 1.3+ MB\n"
     ]
    }
   ],
   "source": [
    "# convert all columns but the two integer ones to strings\n",
    "df.iloc[:,:2] = df.iloc[:,:2].astype(str)\n",
    "df.iloc[:, 3:5] = df.iloc[:, 3:5].astype(str)\n",
    "df.iloc[:, 6:] = df.iloc[:, 6:].astype(str)\n",
    "df.info()"
   ]
  },
  {
   "cell_type": "markdown",
   "metadata": {},
   "source": [
    "Here, I created a list with all of the columns that had numbers that were of \"object\" type because they had `%` signs in them. We strip all the numbers of the percentage sign and convert them to floats, all using the `lambda` and `astype` functions and a for loop."
   ]
  },
  {
   "cell_type": "code",
   "execution_count": 489,
   "metadata": {},
   "outputs": [],
   "source": [
    "pct_cols = [\"Total Grads Pct of cohort\", \"Total Regents Pct of cohort\", \"Total Regents Pct of grads\", \"Advanced Regents Pct of cohort\", \"Advanced Regents Pct of grads\", \"Regents w/o Advanced Pct of cohort\", \"Regents w/o Advanced Pct of grads\", \"Local Pct of cohort\", \"Local Pct of grads\", \"Still Enrolled Pct of cohort\", \"Dropped Out Pct of cohort\"]\n",
    "for c in pct_cols:\n",
    "    col_convert = df.loc[:, c]\n",
    "    col_convert = col_convert.apply(lambda x: x.strip(\"%\"))\n",
    "    df.loc[:, c] = col_convert.astype(float)"
   ]
  },
  {
   "cell_type": "markdown",
   "metadata": {},
   "source": [
    "I created another list with all of the columns that had numbers with no percentage signs that should just be integers but were still \"object\" types. I convert them here using the `astype` function."
   ]
  },
  {
   "cell_type": "code",
   "execution_count": 490,
   "metadata": {},
   "outputs": [],
   "source": [
    "int_cols = [\"Total Grads Num\", \"Total Regents Num\", \"Advanced Regents Num\", \"Regents w/o Advanced Num\", \"Local Num\", \"Still Enrolled Num\",\"Dropped Out Num\"]\n",
    "df.loc[:, int_cols] = df.loc[:, int_cols].astype(int)"
   ]
  },
  {
   "cell_type": "markdown",
   "metadata": {},
   "source": [
    "We now see all the data types are in their correct formats."
   ]
  },
  {
   "cell_type": "code",
   "execution_count": 491,
   "metadata": {
    "scrolled": true
   },
   "outputs": [
    {
     "name": "stdout",
     "output_type": "stream",
     "text": [
      "<class 'pandas.core.frame.DataFrame'>\n",
      "Int64Index: 6676 entries, 38 to 15471\n",
      "Data columns (total 24 columns):\n",
      " #   Column                              Non-Null Count  Dtype  \n",
      "---  ------                              --------------  -----  \n",
      " 0   DBN                                 6676 non-null   object \n",
      " 1   School Name                         6676 non-null   object \n",
      " 2   Cohort Year                         6676 non-null   int64  \n",
      " 3   Cohort Category                     6676 non-null   object \n",
      " 4   Demographic                         6676 non-null   object \n",
      " 5   Total Cohort Num                    6676 non-null   int64  \n",
      " 6   Total Grads Num                     6676 non-null   int64  \n",
      " 7   Total Grads Pct of cohort           6676 non-null   float64\n",
      " 8   Total Regents Num                   6676 non-null   int64  \n",
      " 9   Total Regents Pct of cohort         6676 non-null   float64\n",
      " 10  Total Regents Pct of grads          6676 non-null   float64\n",
      " 11  Advanced Regents Num                6676 non-null   int64  \n",
      " 12  Advanced Regents Pct of cohort      6676 non-null   float64\n",
      " 13  Advanced Regents Pct of grads       6676 non-null   float64\n",
      " 14  Regents w/o Advanced Num            6676 non-null   int64  \n",
      " 15  Regents w/o Advanced Pct of cohort  6676 non-null   float64\n",
      " 16  Regents w/o Advanced Pct of grads   6676 non-null   float64\n",
      " 17  Local Num                           6676 non-null   int64  \n",
      " 18  Local Pct of cohort                 6676 non-null   float64\n",
      " 19  Local Pct of grads                  6676 non-null   float64\n",
      " 20  Still Enrolled Num                  6676 non-null   int64  \n",
      " 21  Still Enrolled Pct of cohort        6676 non-null   float64\n",
      " 22  Dropped Out Num                     6676 non-null   int64  \n",
      " 23  Dropped Out Pct of cohort           6676 non-null   float64\n",
      "dtypes: float64(11), int64(9), object(4)\n",
      "memory usage: 1.3+ MB\n"
     ]
    }
   ],
   "source": [
    "df.info()"
   ]
  },
  {
   "cell_type": "markdown",
   "metadata": {},
   "source": [
    "We can see how the numbers look like now below:"
   ]
  },
  {
   "cell_type": "code",
   "execution_count": 492,
   "metadata": {
    "scrolled": false
   },
   "outputs": [
    {
     "data": {
      "text/html": [
       "<div>\n",
       "<style scoped>\n",
       "    .dataframe tbody tr th:only-of-type {\n",
       "        vertical-align: middle;\n",
       "    }\n",
       "\n",
       "    .dataframe tbody tr th {\n",
       "        vertical-align: top;\n",
       "    }\n",
       "\n",
       "    .dataframe thead th {\n",
       "        text-align: right;\n",
       "    }\n",
       "</style>\n",
       "<table border=\"1\" class=\"dataframe\">\n",
       "  <thead>\n",
       "    <tr style=\"text-align: right;\">\n",
       "      <th></th>\n",
       "      <th>DBN</th>\n",
       "      <th>School Name</th>\n",
       "      <th>Cohort Year</th>\n",
       "      <th>Cohort Category</th>\n",
       "      <th>Demographic</th>\n",
       "      <th>Total Cohort Num</th>\n",
       "      <th>Total Grads Num</th>\n",
       "      <th>Total Grads Pct of cohort</th>\n",
       "      <th>Total Regents Num</th>\n",
       "      <th>Total Regents Pct of cohort</th>\n",
       "      <th>...</th>\n",
       "      <th>Regents w/o Advanced Num</th>\n",
       "      <th>Regents w/o Advanced Pct of cohort</th>\n",
       "      <th>Regents w/o Advanced Pct of grads</th>\n",
       "      <th>Local Num</th>\n",
       "      <th>Local Pct of cohort</th>\n",
       "      <th>Local Pct of grads</th>\n",
       "      <th>Still Enrolled Num</th>\n",
       "      <th>Still Enrolled Pct of cohort</th>\n",
       "      <th>Dropped Out Num</th>\n",
       "      <th>Dropped Out Pct of cohort</th>\n",
       "    </tr>\n",
       "  </thead>\n",
       "  <tbody>\n",
       "    <tr>\n",
       "      <th>38</th>\n",
       "      <td>01M448</td>\n",
       "      <td>University Neighborhood High School</td>\n",
       "      <td>2001</td>\n",
       "      <td>4 Year  June</td>\n",
       "      <td>Female</td>\n",
       "      <td>27</td>\n",
       "      <td>19</td>\n",
       "      <td>70.4</td>\n",
       "      <td>15</td>\n",
       "      <td>55.6</td>\n",
       "      <td>...</td>\n",
       "      <td>13</td>\n",
       "      <td>48.1</td>\n",
       "      <td>68.4</td>\n",
       "      <td>4</td>\n",
       "      <td>14.8</td>\n",
       "      <td>21.1</td>\n",
       "      <td>5</td>\n",
       "      <td>18.5</td>\n",
       "      <td>1</td>\n",
       "      <td>3.7</td>\n",
       "    </tr>\n",
       "    <tr>\n",
       "      <th>41</th>\n",
       "      <td>01M448</td>\n",
       "      <td>University Neighborhood High School</td>\n",
       "      <td>2002</td>\n",
       "      <td>4 Year  June</td>\n",
       "      <td>Female</td>\n",
       "      <td>29</td>\n",
       "      <td>19</td>\n",
       "      <td>65.5</td>\n",
       "      <td>11</td>\n",
       "      <td>37.9</td>\n",
       "      <td>...</td>\n",
       "      <td>7</td>\n",
       "      <td>24.1</td>\n",
       "      <td>36.8</td>\n",
       "      <td>8</td>\n",
       "      <td>27.6</td>\n",
       "      <td>42.1</td>\n",
       "      <td>8</td>\n",
       "      <td>27.6</td>\n",
       "      <td>1</td>\n",
       "      <td>3.4</td>\n",
       "    </tr>\n",
       "    <tr>\n",
       "      <th>42</th>\n",
       "      <td>01M448</td>\n",
       "      <td>University Neighborhood High School</td>\n",
       "      <td>2002</td>\n",
       "      <td>5 Year</td>\n",
       "      <td>Female</td>\n",
       "      <td>29</td>\n",
       "      <td>24</td>\n",
       "      <td>82.8</td>\n",
       "      <td>12</td>\n",
       "      <td>41.4</td>\n",
       "      <td>...</td>\n",
       "      <td>8</td>\n",
       "      <td>27.6</td>\n",
       "      <td>33.3</td>\n",
       "      <td>12</td>\n",
       "      <td>41.4</td>\n",
       "      <td>50.0</td>\n",
       "      <td>2</td>\n",
       "      <td>6.9</td>\n",
       "      <td>2</td>\n",
       "      <td>6.9</td>\n",
       "    </tr>\n",
       "    <tr>\n",
       "      <th>43</th>\n",
       "      <td>01M448</td>\n",
       "      <td>University Neighborhood High School</td>\n",
       "      <td>2002</td>\n",
       "      <td>6 Year</td>\n",
       "      <td>Female</td>\n",
       "      <td>29</td>\n",
       "      <td>24</td>\n",
       "      <td>82.8</td>\n",
       "      <td>12</td>\n",
       "      <td>41.4</td>\n",
       "      <td>...</td>\n",
       "      <td>8</td>\n",
       "      <td>27.6</td>\n",
       "      <td>33.3</td>\n",
       "      <td>12</td>\n",
       "      <td>41.4</td>\n",
       "      <td>50.0</td>\n",
       "      <td>2</td>\n",
       "      <td>6.9</td>\n",
       "      <td>2</td>\n",
       "      <td>6.9</td>\n",
       "    </tr>\n",
       "    <tr>\n",
       "      <th>44</th>\n",
       "      <td>01M448</td>\n",
       "      <td>University Neighborhood High School</td>\n",
       "      <td>2003</td>\n",
       "      <td>4 Year  June</td>\n",
       "      <td>Female</td>\n",
       "      <td>45</td>\n",
       "      <td>42</td>\n",
       "      <td>93.3</td>\n",
       "      <td>21</td>\n",
       "      <td>46.7</td>\n",
       "      <td>...</td>\n",
       "      <td>14</td>\n",
       "      <td>31.1</td>\n",
       "      <td>33.3</td>\n",
       "      <td>21</td>\n",
       "      <td>46.7</td>\n",
       "      <td>50.0</td>\n",
       "      <td>1</td>\n",
       "      <td>2.2</td>\n",
       "      <td>2</td>\n",
       "      <td>4.4</td>\n",
       "    </tr>\n",
       "  </tbody>\n",
       "</table>\n",
       "<p>5 rows × 24 columns</p>\n",
       "</div>"
      ],
      "text/plain": [
       "       DBN                          School Name  Cohort Year Cohort Category  \\\n",
       "38  01M448  University Neighborhood High School         2001    4 Year  June   \n",
       "41  01M448  University Neighborhood High School         2002    4 Year  June   \n",
       "42  01M448  University Neighborhood High School         2002          5 Year   \n",
       "43  01M448  University Neighborhood High School         2002          6 Year   \n",
       "44  01M448  University Neighborhood High School         2003    4 Year  June   \n",
       "\n",
       "   Demographic  Total Cohort Num  Total Grads Num  Total Grads Pct of cohort  \\\n",
       "38      Female                27               19                       70.4   \n",
       "41      Female                29               19                       65.5   \n",
       "42      Female                29               24                       82.8   \n",
       "43      Female                29               24                       82.8   \n",
       "44      Female                45               42                       93.3   \n",
       "\n",
       "    Total Regents Num  Total Regents Pct of cohort  ...  \\\n",
       "38                 15                         55.6  ...   \n",
       "41                 11                         37.9  ...   \n",
       "42                 12                         41.4  ...   \n",
       "43                 12                         41.4  ...   \n",
       "44                 21                         46.7  ...   \n",
       "\n",
       "    Regents w/o Advanced Num  Regents w/o Advanced Pct of cohort  \\\n",
       "38                        13                                48.1   \n",
       "41                         7                                24.1   \n",
       "42                         8                                27.6   \n",
       "43                         8                                27.6   \n",
       "44                        14                                31.1   \n",
       "\n",
       "    Regents w/o Advanced Pct of grads  Local Num  Local Pct of cohort  \\\n",
       "38                               68.4          4                 14.8   \n",
       "41                               36.8          8                 27.6   \n",
       "42                               33.3         12                 41.4   \n",
       "43                               33.3         12                 41.4   \n",
       "44                               33.3         21                 46.7   \n",
       "\n",
       "    Local Pct of grads  Still Enrolled Num  Still Enrolled Pct of cohort  \\\n",
       "38                21.1                   5                          18.5   \n",
       "41                42.1                   8                          27.6   \n",
       "42                50.0                   2                           6.9   \n",
       "43                50.0                   2                           6.9   \n",
       "44                50.0                   1                           2.2   \n",
       "\n",
       "    Dropped Out Num  Dropped Out Pct of cohort  \n",
       "38                1                        3.7  \n",
       "41                1                        3.4  \n",
       "42                2                        6.9  \n",
       "43                2                        6.9  \n",
       "44                2                        4.4  \n",
       "\n",
       "[5 rows x 24 columns]"
      ]
     },
     "execution_count": 492,
     "metadata": {},
     "output_type": "execute_result"
    }
   ],
   "source": [
    "df.head()"
   ]
  },
  {
   "cell_type": "markdown",
   "metadata": {},
   "source": [
    "Finally, I created a `School Type` column using a for loop and filtering to separate the schools into `Co-Ed`, `All-Girls`, and `All-Boys` based on their `Demographic` column."
   ]
  },
  {
   "cell_type": "code",
   "execution_count": 493,
   "metadata": {},
   "outputs": [
    {
     "data": {
      "text/html": [
       "<div>\n",
       "<style scoped>\n",
       "    .dataframe tbody tr th:only-of-type {\n",
       "        vertical-align: middle;\n",
       "    }\n",
       "\n",
       "    .dataframe tbody tr th {\n",
       "        vertical-align: top;\n",
       "    }\n",
       "\n",
       "    .dataframe thead th {\n",
       "        text-align: right;\n",
       "    }\n",
       "</style>\n",
       "<table border=\"1\" class=\"dataframe\">\n",
       "  <thead>\n",
       "    <tr style=\"text-align: right;\">\n",
       "      <th></th>\n",
       "      <th>DBN</th>\n",
       "      <th>School Name</th>\n",
       "      <th>Cohort Year</th>\n",
       "      <th>Cohort Category</th>\n",
       "      <th>Demographic</th>\n",
       "      <th>Total Cohort Num</th>\n",
       "      <th>Total Grads Num</th>\n",
       "      <th>Total Grads Pct of cohort</th>\n",
       "      <th>Total Regents Num</th>\n",
       "      <th>Total Regents Pct of cohort</th>\n",
       "      <th>...</th>\n",
       "      <th>Regents w/o Advanced Pct of cohort</th>\n",
       "      <th>Regents w/o Advanced Pct of grads</th>\n",
       "      <th>Local Num</th>\n",
       "      <th>Local Pct of cohort</th>\n",
       "      <th>Local Pct of grads</th>\n",
       "      <th>Still Enrolled Num</th>\n",
       "      <th>Still Enrolled Pct of cohort</th>\n",
       "      <th>Dropped Out Num</th>\n",
       "      <th>Dropped Out Pct of cohort</th>\n",
       "      <th>School Type</th>\n",
       "    </tr>\n",
       "  </thead>\n",
       "  <tbody>\n",
       "    <tr>\n",
       "      <th>38</th>\n",
       "      <td>01M448</td>\n",
       "      <td>University Neighborhood High School</td>\n",
       "      <td>2001</td>\n",
       "      <td>4 Year  June</td>\n",
       "      <td>Female</td>\n",
       "      <td>27</td>\n",
       "      <td>19</td>\n",
       "      <td>70.4</td>\n",
       "      <td>15</td>\n",
       "      <td>55.6</td>\n",
       "      <td>...</td>\n",
       "      <td>48.1</td>\n",
       "      <td>68.4</td>\n",
       "      <td>4</td>\n",
       "      <td>14.8</td>\n",
       "      <td>21.1</td>\n",
       "      <td>5</td>\n",
       "      <td>18.5</td>\n",
       "      <td>1</td>\n",
       "      <td>3.7</td>\n",
       "      <td>Co-Ed</td>\n",
       "    </tr>\n",
       "    <tr>\n",
       "      <th>41</th>\n",
       "      <td>01M448</td>\n",
       "      <td>University Neighborhood High School</td>\n",
       "      <td>2002</td>\n",
       "      <td>4 Year  June</td>\n",
       "      <td>Female</td>\n",
       "      <td>29</td>\n",
       "      <td>19</td>\n",
       "      <td>65.5</td>\n",
       "      <td>11</td>\n",
       "      <td>37.9</td>\n",
       "      <td>...</td>\n",
       "      <td>24.1</td>\n",
       "      <td>36.8</td>\n",
       "      <td>8</td>\n",
       "      <td>27.6</td>\n",
       "      <td>42.1</td>\n",
       "      <td>8</td>\n",
       "      <td>27.6</td>\n",
       "      <td>1</td>\n",
       "      <td>3.4</td>\n",
       "      <td>Co-Ed</td>\n",
       "    </tr>\n",
       "    <tr>\n",
       "      <th>42</th>\n",
       "      <td>01M448</td>\n",
       "      <td>University Neighborhood High School</td>\n",
       "      <td>2002</td>\n",
       "      <td>5 Year</td>\n",
       "      <td>Female</td>\n",
       "      <td>29</td>\n",
       "      <td>24</td>\n",
       "      <td>82.8</td>\n",
       "      <td>12</td>\n",
       "      <td>41.4</td>\n",
       "      <td>...</td>\n",
       "      <td>27.6</td>\n",
       "      <td>33.3</td>\n",
       "      <td>12</td>\n",
       "      <td>41.4</td>\n",
       "      <td>50.0</td>\n",
       "      <td>2</td>\n",
       "      <td>6.9</td>\n",
       "      <td>2</td>\n",
       "      <td>6.9</td>\n",
       "      <td>Co-Ed</td>\n",
       "    </tr>\n",
       "    <tr>\n",
       "      <th>43</th>\n",
       "      <td>01M448</td>\n",
       "      <td>University Neighborhood High School</td>\n",
       "      <td>2002</td>\n",
       "      <td>6 Year</td>\n",
       "      <td>Female</td>\n",
       "      <td>29</td>\n",
       "      <td>24</td>\n",
       "      <td>82.8</td>\n",
       "      <td>12</td>\n",
       "      <td>41.4</td>\n",
       "      <td>...</td>\n",
       "      <td>27.6</td>\n",
       "      <td>33.3</td>\n",
       "      <td>12</td>\n",
       "      <td>41.4</td>\n",
       "      <td>50.0</td>\n",
       "      <td>2</td>\n",
       "      <td>6.9</td>\n",
       "      <td>2</td>\n",
       "      <td>6.9</td>\n",
       "      <td>Co-Ed</td>\n",
       "    </tr>\n",
       "    <tr>\n",
       "      <th>44</th>\n",
       "      <td>01M448</td>\n",
       "      <td>University Neighborhood High School</td>\n",
       "      <td>2003</td>\n",
       "      <td>4 Year  June</td>\n",
       "      <td>Female</td>\n",
       "      <td>45</td>\n",
       "      <td>42</td>\n",
       "      <td>93.3</td>\n",
       "      <td>21</td>\n",
       "      <td>46.7</td>\n",
       "      <td>...</td>\n",
       "      <td>31.1</td>\n",
       "      <td>33.3</td>\n",
       "      <td>21</td>\n",
       "      <td>46.7</td>\n",
       "      <td>50.0</td>\n",
       "      <td>1</td>\n",
       "      <td>2.2</td>\n",
       "      <td>2</td>\n",
       "      <td>4.4</td>\n",
       "      <td>Co-Ed</td>\n",
       "    </tr>\n",
       "  </tbody>\n",
       "</table>\n",
       "<p>5 rows × 25 columns</p>\n",
       "</div>"
      ],
      "text/plain": [
       "       DBN                          School Name  Cohort Year Cohort Category  \\\n",
       "38  01M448  University Neighborhood High School         2001    4 Year  June   \n",
       "41  01M448  University Neighborhood High School         2002    4 Year  June   \n",
       "42  01M448  University Neighborhood High School         2002          5 Year   \n",
       "43  01M448  University Neighborhood High School         2002          6 Year   \n",
       "44  01M448  University Neighborhood High School         2003    4 Year  June   \n",
       "\n",
       "   Demographic  Total Cohort Num  Total Grads Num  Total Grads Pct of cohort  \\\n",
       "38      Female                27               19                       70.4   \n",
       "41      Female                29               19                       65.5   \n",
       "42      Female                29               24                       82.8   \n",
       "43      Female                29               24                       82.8   \n",
       "44      Female                45               42                       93.3   \n",
       "\n",
       "    Total Regents Num  Total Regents Pct of cohort  ...  \\\n",
       "38                 15                         55.6  ...   \n",
       "41                 11                         37.9  ...   \n",
       "42                 12                         41.4  ...   \n",
       "43                 12                         41.4  ...   \n",
       "44                 21                         46.7  ...   \n",
       "\n",
       "    Regents w/o Advanced Pct of cohort  Regents w/o Advanced Pct of grads  \\\n",
       "38                                48.1                               68.4   \n",
       "41                                24.1                               36.8   \n",
       "42                                27.6                               33.3   \n",
       "43                                27.6                               33.3   \n",
       "44                                31.1                               33.3   \n",
       "\n",
       "    Local Num  Local Pct of cohort  Local Pct of grads  Still Enrolled Num  \\\n",
       "38          4                 14.8                21.1                   5   \n",
       "41          8                 27.6                42.1                   8   \n",
       "42         12                 41.4                50.0                   2   \n",
       "43         12                 41.4                50.0                   2   \n",
       "44         21                 46.7                50.0                   1   \n",
       "\n",
       "    Still Enrolled Pct of cohort  Dropped Out Num  Dropped Out Pct of cohort  \\\n",
       "38                          18.5                1                        3.7   \n",
       "41                          27.6                1                        3.4   \n",
       "42                           6.9                2                        6.9   \n",
       "43                           6.9                2                        6.9   \n",
       "44                           2.2                2                        4.4   \n",
       "\n",
       "    School Type  \n",
       "38        Co-Ed  \n",
       "41        Co-Ed  \n",
       "42        Co-Ed  \n",
       "43        Co-Ed  \n",
       "44        Co-Ed  \n",
       "\n",
       "[5 rows x 25 columns]"
      ]
     },
     "execution_count": 493,
     "metadata": {},
     "output_type": "execute_result"
    }
   ],
   "source": [
    "# filter schools for if they are co-ed, all boys, or all girls in a \"School Type\" column\n",
    "unique_schools = df[\"School Name\"].unique()\n",
    "\n",
    "for s in unique_schools:\n",
    "    demographics = df[df['School Name'] == s][\"Demographic\"].unique()\n",
    "    if (\"Male\" in demographics) and (\"Female\" in demographics):\n",
    "        df.loc[df['School Name'] == s, \"School Type\"] = \"Co-Ed\"\n",
    "    elif demographics == \"Male\":\n",
    "        df.loc[df['School Name'] == s, \"School Type\"] = \"All-Boys\"\n",
    "    elif demographics == \"Female\":\n",
    "        df.loc[df['School Name'] == s, \"School Type\"] = \"All-Girls\""
   ]
  },
  {
   "cell_type": "markdown",
   "metadata": {},
   "source": [
    "Here is the final dataset:"
   ]
  },
  {
   "cell_type": "code",
   "execution_count": 512,
   "metadata": {
    "scrolled": true
   },
   "outputs": [
    {
     "data": {
      "text/html": [
       "<div>\n",
       "<style scoped>\n",
       "    .dataframe tbody tr th:only-of-type {\n",
       "        vertical-align: middle;\n",
       "    }\n",
       "\n",
       "    .dataframe tbody tr th {\n",
       "        vertical-align: top;\n",
       "    }\n",
       "\n",
       "    .dataframe thead th {\n",
       "        text-align: right;\n",
       "    }\n",
       "</style>\n",
       "<table border=\"1\" class=\"dataframe\">\n",
       "  <thead>\n",
       "    <tr style=\"text-align: right;\">\n",
       "      <th></th>\n",
       "      <th>DBN</th>\n",
       "      <th>School Name</th>\n",
       "      <th>Cohort Year</th>\n",
       "      <th>Cohort Category</th>\n",
       "      <th>Demographic</th>\n",
       "      <th>Total Cohort Num</th>\n",
       "      <th>Total Grads Num</th>\n",
       "      <th>Total Grads Pct of cohort</th>\n",
       "      <th>Total Regents Num</th>\n",
       "      <th>Total Regents Pct of cohort</th>\n",
       "      <th>...</th>\n",
       "      <th>Regents w/o Advanced Pct of cohort</th>\n",
       "      <th>Regents w/o Advanced Pct of grads</th>\n",
       "      <th>Local Num</th>\n",
       "      <th>Local Pct of cohort</th>\n",
       "      <th>Local Pct of grads</th>\n",
       "      <th>Still Enrolled Num</th>\n",
       "      <th>Still Enrolled Pct of cohort</th>\n",
       "      <th>Dropped Out Num</th>\n",
       "      <th>Dropped Out Pct of cohort</th>\n",
       "      <th>School Type</th>\n",
       "    </tr>\n",
       "  </thead>\n",
       "  <tbody>\n",
       "    <tr>\n",
       "      <th>38</th>\n",
       "      <td>01M448</td>\n",
       "      <td>University Neighborhood High School</td>\n",
       "      <td>2001</td>\n",
       "      <td>4 Year  June</td>\n",
       "      <td>Female</td>\n",
       "      <td>27</td>\n",
       "      <td>19</td>\n",
       "      <td>70.4</td>\n",
       "      <td>15</td>\n",
       "      <td>55.6</td>\n",
       "      <td>...</td>\n",
       "      <td>48.1</td>\n",
       "      <td>68.4</td>\n",
       "      <td>4</td>\n",
       "      <td>14.8</td>\n",
       "      <td>21.1</td>\n",
       "      <td>5</td>\n",
       "      <td>18.5</td>\n",
       "      <td>1</td>\n",
       "      <td>3.7</td>\n",
       "      <td>Co-Ed</td>\n",
       "    </tr>\n",
       "    <tr>\n",
       "      <th>41</th>\n",
       "      <td>01M448</td>\n",
       "      <td>University Neighborhood High School</td>\n",
       "      <td>2002</td>\n",
       "      <td>4 Year  June</td>\n",
       "      <td>Female</td>\n",
       "      <td>29</td>\n",
       "      <td>19</td>\n",
       "      <td>65.5</td>\n",
       "      <td>11</td>\n",
       "      <td>37.9</td>\n",
       "      <td>...</td>\n",
       "      <td>24.1</td>\n",
       "      <td>36.8</td>\n",
       "      <td>8</td>\n",
       "      <td>27.6</td>\n",
       "      <td>42.1</td>\n",
       "      <td>8</td>\n",
       "      <td>27.6</td>\n",
       "      <td>1</td>\n",
       "      <td>3.4</td>\n",
       "      <td>Co-Ed</td>\n",
       "    </tr>\n",
       "    <tr>\n",
       "      <th>42</th>\n",
       "      <td>01M448</td>\n",
       "      <td>University Neighborhood High School</td>\n",
       "      <td>2002</td>\n",
       "      <td>5 Year</td>\n",
       "      <td>Female</td>\n",
       "      <td>29</td>\n",
       "      <td>24</td>\n",
       "      <td>82.8</td>\n",
       "      <td>12</td>\n",
       "      <td>41.4</td>\n",
       "      <td>...</td>\n",
       "      <td>27.6</td>\n",
       "      <td>33.3</td>\n",
       "      <td>12</td>\n",
       "      <td>41.4</td>\n",
       "      <td>50.0</td>\n",
       "      <td>2</td>\n",
       "      <td>6.9</td>\n",
       "      <td>2</td>\n",
       "      <td>6.9</td>\n",
       "      <td>Co-Ed</td>\n",
       "    </tr>\n",
       "    <tr>\n",
       "      <th>43</th>\n",
       "      <td>01M448</td>\n",
       "      <td>University Neighborhood High School</td>\n",
       "      <td>2002</td>\n",
       "      <td>6 Year</td>\n",
       "      <td>Female</td>\n",
       "      <td>29</td>\n",
       "      <td>24</td>\n",
       "      <td>82.8</td>\n",
       "      <td>12</td>\n",
       "      <td>41.4</td>\n",
       "      <td>...</td>\n",
       "      <td>27.6</td>\n",
       "      <td>33.3</td>\n",
       "      <td>12</td>\n",
       "      <td>41.4</td>\n",
       "      <td>50.0</td>\n",
       "      <td>2</td>\n",
       "      <td>6.9</td>\n",
       "      <td>2</td>\n",
       "      <td>6.9</td>\n",
       "      <td>Co-Ed</td>\n",
       "    </tr>\n",
       "    <tr>\n",
       "      <th>44</th>\n",
       "      <td>01M448</td>\n",
       "      <td>University Neighborhood High School</td>\n",
       "      <td>2003</td>\n",
       "      <td>4 Year  June</td>\n",
       "      <td>Female</td>\n",
       "      <td>45</td>\n",
       "      <td>42</td>\n",
       "      <td>93.3</td>\n",
       "      <td>21</td>\n",
       "      <td>46.7</td>\n",
       "      <td>...</td>\n",
       "      <td>31.1</td>\n",
       "      <td>33.3</td>\n",
       "      <td>21</td>\n",
       "      <td>46.7</td>\n",
       "      <td>50.0</td>\n",
       "      <td>1</td>\n",
       "      <td>2.2</td>\n",
       "      <td>2</td>\n",
       "      <td>4.4</td>\n",
       "      <td>Co-Ed</td>\n",
       "    </tr>\n",
       "  </tbody>\n",
       "</table>\n",
       "<p>5 rows × 25 columns</p>\n",
       "</div>"
      ],
      "text/plain": [
       "       DBN                          School Name  Cohort Year Cohort Category  \\\n",
       "38  01M448  University Neighborhood High School         2001    4 Year  June   \n",
       "41  01M448  University Neighborhood High School         2002    4 Year  June   \n",
       "42  01M448  University Neighborhood High School         2002          5 Year   \n",
       "43  01M448  University Neighborhood High School         2002          6 Year   \n",
       "44  01M448  University Neighborhood High School         2003    4 Year  June   \n",
       "\n",
       "   Demographic  Total Cohort Num  Total Grads Num  Total Grads Pct of cohort  \\\n",
       "38      Female                27               19                       70.4   \n",
       "41      Female                29               19                       65.5   \n",
       "42      Female                29               24                       82.8   \n",
       "43      Female                29               24                       82.8   \n",
       "44      Female                45               42                       93.3   \n",
       "\n",
       "    Total Regents Num  Total Regents Pct of cohort  ...  \\\n",
       "38                 15                         55.6  ...   \n",
       "41                 11                         37.9  ...   \n",
       "42                 12                         41.4  ...   \n",
       "43                 12                         41.4  ...   \n",
       "44                 21                         46.7  ...   \n",
       "\n",
       "    Regents w/o Advanced Pct of cohort  Regents w/o Advanced Pct of grads  \\\n",
       "38                                48.1                               68.4   \n",
       "41                                24.1                               36.8   \n",
       "42                                27.6                               33.3   \n",
       "43                                27.6                               33.3   \n",
       "44                                31.1                               33.3   \n",
       "\n",
       "    Local Num  Local Pct of cohort  Local Pct of grads  Still Enrolled Num  \\\n",
       "38          4                 14.8                21.1                   5   \n",
       "41          8                 27.6                42.1                   8   \n",
       "42         12                 41.4                50.0                   2   \n",
       "43         12                 41.4                50.0                   2   \n",
       "44         21                 46.7                50.0                   1   \n",
       "\n",
       "    Still Enrolled Pct of cohort  Dropped Out Num  Dropped Out Pct of cohort  \\\n",
       "38                          18.5                1                        3.7   \n",
       "41                          27.6                1                        3.4   \n",
       "42                           6.9                2                        6.9   \n",
       "43                           6.9                2                        6.9   \n",
       "44                           2.2                2                        4.4   \n",
       "\n",
       "    School Type  \n",
       "38        Co-Ed  \n",
       "41        Co-Ed  \n",
       "42        Co-Ed  \n",
       "43        Co-Ed  \n",
       "44        Co-Ed  \n",
       "\n",
       "[5 rows x 25 columns]"
      ]
     },
     "execution_count": 512,
     "metadata": {},
     "output_type": "execute_result"
    }
   ],
   "source": [
    "df.head()"
   ]
  },
  {
   "cell_type": "markdown",
   "metadata": {},
   "source": [
    "## Data analysis\n",
    "Place your **data analysis** code and documentation within this section.\n",
    "- Perform at least 5 different statistical or other analyses of different aspects of the data.\n",
    "    - Your analyses must be specific and relevant to your chosen data set and show interesting aspects of it.\n",
    "    - Include at least one analysis that includes grouping rows by a shared attribute and performing some kind of statistical analysis on each group.\n",
    "    - Sort the data in at least 1 of your analyses, but sort on its own does not constitute an analysis on its own.\n",
    "- Keep each of your Code cells short and focused on a single task.\n",
    "- Include a Markdown cell above each Code cell that describes what task the code within the Code cell is performing.\n",
    "- Make as many code cells as you need to complete the analysis - a few have been created for you to start with."
   ]
  },
  {
   "cell_type": "markdown",
   "metadata": {},
   "source": [
    "My 5-7 analyses:\n",
    "1. Overall mean graduation rate per school, sorted in descending order, showing only the top 10.\n",
    "2. Mean graduation rate per \"School Type\" (co-ed, all-girls, all-boys).\n",
    "3. Number of schools which are All-Girls and have a graduation rate above 80%.\n",
    "4. Graduation rates for boys at all boys schools vs coed schools, sorted in descending order, showing the top 20. \n",
    "5. Graduation rates for girls at all girls schools vs coed schools, sorted in descending order, showing the top 20.\n",
    "6. Dropout rates for boys at all boys schools vs coed schools, sorted in ascending order.\n",
    "7. Dropout rates for girls at all girls schools vs coed schools, sorted in ascending order."
   ]
  },
  {
   "cell_type": "markdown",
   "metadata": {},
   "source": [
    "Below, for my first analysis, I found the schools with the top 10 highest graduation rates, sorted in descending order. I used a grouping function and sorted the values in descending order.\n",
    "\n",
    "\n",
    "It is interesting to note that these top high schools are either affiliated with a college or are more \"prep\"-based / oriented towards a specifc career path, like medicine or the arts. Perhaps students who are passionate about a certain path are more likely to succeed, and thus graduate."
   ]
  },
  {
   "cell_type": "code",
   "execution_count": 494,
   "metadata": {},
   "outputs": [
    {
     "data": {
      "text/plain": [
       "School Name\n",
       "Baruch College Campus High School                     97.000000\n",
       "Fiorello H Laguardia High School Of Music             96.604167\n",
       "Brooklyn Technical High School                        95.642857\n",
       "Queens Gateway To Health Sciences Secondary School    94.420000\n",
       "Marie Curie High Sch-Nursing, Medicine & Applied H    93.800000\n",
       "Frank Sinatra School Of The Arts High School          93.666667\n",
       "Nyc Lab High School For Collaborative Studies         93.066667\n",
       "Knowledge And Power Prep Academy International Hig    92.900000\n",
       "Benjamin Banneker Academy                             92.671429\n",
       "Young Women'S Leadership School Of Queens             92.100000\n",
       "Name: Total Grads Pct of cohort, dtype: float64"
      ]
     },
     "execution_count": 494,
     "metadata": {},
     "output_type": "execute_result"
    }
   ],
   "source": [
    "# mean graduation rate per school: descending order, top 10\n",
    "df.groupby(\"School Name\")['Total Grads Pct of cohort'].mean().sort_values(ascending = False).head(10)"
   ]
  },
  {
   "cell_type": "markdown",
   "metadata": {},
   "source": [
    "For my second analysis, I have the mean graduation rate per school type, based on my \"School Type\" column that I created. I again used a grouping function here to group by the \"School Type\".\n",
    "\n",
    "The average graduation rate is pretty similar amongst all school types, with \"All-Girls\" being the highest among them. "
   ]
  },
  {
   "cell_type": "code",
   "execution_count": 495,
   "metadata": {},
   "outputs": [
    {
     "data": {
      "text/plain": [
       "School Type\n",
       "All-Boys     67.210390\n",
       "All-Girls    69.843802\n",
       "Co-Ed        67.414418\n",
       "Name: Total Grads Pct of cohort, dtype: float64"
      ]
     },
     "execution_count": 495,
     "metadata": {},
     "output_type": "execute_result"
    }
   ],
   "source": [
    "# mean graduation rate per School Type\n",
    "df.groupby(\"School Type\")[ \"Total Grads Pct of cohort\" ].mean()"
   ]
  },
  {
   "cell_type": "markdown",
   "metadata": {},
   "source": [
    "For the third analysis, I used filtering to determine the number of all-girls schools which have a graudate rate above 80%.\n",
    "\n",
    "There are 32 unique all-girls schools in my currrent dataset."
   ]
  },
  {
   "cell_type": "code",
   "execution_count": 513,
   "metadata": {},
   "outputs": [
    {
     "data": {
      "text/plain": [
       "32"
      ]
     },
     "execution_count": 513,
     "metadata": {},
     "output_type": "execute_result"
    }
   ],
   "source": [
    "r = df[df[\"School Type\"] == \"All-Girls\"][\"School Name\"].unique()\n",
    "len(r)"
   ]
  },
  {
   "cell_type": "markdown",
   "metadata": {},
   "source": [
    "Here, I added the filter for the graduation rate being above 80.\n",
    "\n",
    "We now have 18 schools. So about half of the all-girls schools have high graduation rates."
   ]
  },
  {
   "cell_type": "code",
   "execution_count": 496,
   "metadata": {},
   "outputs": [
    {
     "data": {
      "text/plain": [
       "18"
      ]
     },
     "execution_count": 496,
     "metadata": {},
     "output_type": "execute_result"
    }
   ],
   "source": [
    "# number of schools which are All-Girls and have a graduation rate above 80%\n",
    "num_allGirls_highRate = df[(df[\"School Type\"] == \"All-Girls\") & (df[\"Total Grads Pct of cohort\"] > 80)][\"School Name\"].unique()\n",
    "len(num_allGirls_highRate)"
   ]
  },
  {
   "cell_type": "markdown",
   "metadata": {},
   "source": [
    "For my fourth analysis, I analyzed the graduation rates for boys at all-boys schools vs. co-ed schools. Similarly, I analyzed the graduation rates for girls at all-girls schools vs. co-ed schools.\n",
    "\n",
    "This first cell finds the graduation rates for boys at co-ed schools, first using filtering and then adding a grouping function. I additionally sort the values in descending order and show the top 20.\n",
    "\n",
    "As we can see, the graduation rates here for the boys at co-ed schools are high and range from about 87% to 95%."
   ]
  },
  {
   "cell_type": "code",
   "execution_count": 497,
   "metadata": {},
   "outputs": [
    {
     "data": {
      "text/plain": [
       "School Name\n",
       "Brooklyn Technical High School                        94.800000\n",
       "Fiorello H Laguardia High School Of Music             93.400000\n",
       "Knowledge And Power Prep Academy International Hig    92.550000\n",
       "Nyc Lab High School For Collaborative Studies         92.050000\n",
       "Millennium High School                                91.700000\n",
       "It Takes A Village Academy                            91.200000\n",
       "Bedford Academy High School                           91.183333\n",
       "Frank Sinatra School Of The Arts High School          91.075000\n",
       "Theatre Arts Production Company School                90.600000\n",
       "Benjamin Banneker Academy                             89.971429\n",
       "Brooklyn College Academy                              89.477778\n",
       "Csi High School For International Studies             89.250000\n",
       "Bronx High School For Medical Science                 88.900000\n",
       "Pace High School                                      88.875000\n",
       "Leon M Goldstein High School For The Sciences         88.792308\n",
       "Professional Performing Arts High School              87.850000\n",
       "World Journalism Preparatory                          87.416667\n",
       "South Bronx Preparatory - A College Board School      87.088889\n",
       "Channel View School For Research                      86.960000\n",
       "Urban Assembly School For Careers In Sports           86.800000\n",
       "Name: Total Grads Pct of cohort, dtype: float64"
      ]
     },
     "execution_count": 497,
     "metadata": {},
     "output_type": "execute_result"
    }
   ],
   "source": [
    "# boys at Co-Ed schools total graduation rate\n",
    "boysCoed_gradRate = df[(df[\"School Type\"] == \"Co-Ed\") & (df[\"Demographic\"] == \"Male\")][[\"School Name\", \"Total Grads Pct of cohort\"]]\n",
    "boysCoed_gradRate.groupby(\"School Name\")[\"Total Grads Pct of cohort\"].mean().sort_values(ascending = False).head(20)"
   ]
  },
  {
   "cell_type": "markdown",
   "metadata": {},
   "source": [
    "Now we find the graduation rates for boys at all-boys schools using the same method."
   ]
  },
  {
   "cell_type": "code",
   "execution_count": 498,
   "metadata": {},
   "outputs": [
    {
     "data": {
      "text/plain": [
       "School Name\n",
       "High Sch-Construction, Trades, Engineering & Archi    91.733333\n",
       "Baccalaureate School For Global Education             90.900000\n",
       "All City Leadership Secondary School                  89.600000\n",
       "Bronx Aerospace High School                           87.500000\n",
       "Urban Assembly School For Applied Math And Science    87.500000\n",
       "Manhattan/Hunter Science High School                  86.760000\n",
       "High School Of Computers And Technology               84.466667\n",
       "High School Of Sports Management                      78.916667\n",
       "Urban Assembly School Of Design And Construction      73.660000\n",
       "Eagle Academy For Young Men                           70.880000\n",
       "Urban Assembly Academy Of Government And Law          68.360000\n",
       "Bronx Lab School                                      65.100000\n",
       "Coalition School For Social Change                    60.550000\n",
       "Bronx Coalition Community High School                 55.125000\n",
       "Automotive High School                                52.880000\n",
       "Pablo Neruda Academy For Architecture And World St    48.450000\n",
       "Pan American International High School                47.000000\n",
       "Facing History School (The)                           45.350000\n",
       "Crotona Academy High School                           41.650000\n",
       "Urban Assembly Acad-History And Citizenship For Yo    40.400000\n",
       "Name: Total Grads Pct of cohort, dtype: float64"
      ]
     },
     "execution_count": 498,
     "metadata": {},
     "output_type": "execute_result"
    }
   ],
   "source": [
    "# boys at All-Boys schools total graduation rate\n",
    "boysBoys_gradRate = df[df[\"School Type\"] == \"All-Boys\"][[\"School Name\", \"Total Grads Pct of cohort\"]]\n",
    "boysBoys_gradRate.groupby(\"School Name\")[\"Total Grads Pct of cohort\"].mean().sort_values(ascending = False).head(20)"
   ]
  },
  {
   "cell_type": "markdown",
   "metadata": {},
   "source": [
    "The schools with the top 20 graduation rates range much more widely, from about 40% to 92%. This wide range is likely due to the fact that there are 266 schools that are co-ed and only 21 that are all-boys, as we can see below."
   ]
  },
  {
   "cell_type": "code",
   "execution_count": 521,
   "metadata": {},
   "outputs": [
    {
     "data": {
      "text/plain": [
       "266"
      ]
     },
     "execution_count": 521,
     "metadata": {},
     "output_type": "execute_result"
    }
   ],
   "source": [
    "len(df[df[\"School Type\"] == \"Co-Ed\"][\"School Name\"].unique())"
   ]
  },
  {
   "cell_type": "code",
   "execution_count": 518,
   "metadata": {},
   "outputs": [
    {
     "data": {
      "text/plain": [
       "21"
      ]
     },
     "execution_count": 518,
     "metadata": {},
     "output_type": "execute_result"
    }
   ],
   "source": [
    "len(df[df[\"School Type\"] == \"All-Boys\"][\"School Name\"].unique())"
   ]
  },
  {
   "cell_type": "markdown",
   "metadata": {},
   "source": [
    "Now, we do the same analysis for girls at co-ed schools vs. all-girls schools. First, I check here the number of all-girls schools; there are 32 of them."
   ]
  },
  {
   "cell_type": "code",
   "execution_count": 522,
   "metadata": {},
   "outputs": [
    {
     "data": {
      "text/plain": [
       "32"
      ]
     },
     "execution_count": 522,
     "metadata": {},
     "output_type": "execute_result"
    }
   ],
   "source": [
    "len(df[df[\"School Type\"] == \"All-Girls\"][\"School Name\"].unique())"
   ]
  },
  {
   "cell_type": "markdown",
   "metadata": {},
   "source": [
    "We perform the same analysis as before using the same techniques, just switching to \"female\".\n",
    "\n",
    "Wee that for the co-ed schools, the graduation rates for girls is consistently higher than the boys, rangin from 91% to almost 99%. These rates are very high! Perhaps the girls in these co-ed schools are much more academically driven, even if they are not at prepatory or career-focused schools."
   ]
  },
  {
   "cell_type": "code",
   "execution_count": 499,
   "metadata": {},
   "outputs": [
    {
     "data": {
      "text/plain": [
       "School Name\n",
       "Brooklyn Technical High School                        98.733333\n",
       "Fiorello H Laguardia High School Of Music             97.923529\n",
       "Bedford Academy High School                           96.000000\n",
       "Frank Sinatra School Of The Arts High School          95.740000\n",
       "Benjamin Banneker Academy                             95.371429\n",
       "Nyc Lab High School For Collaborative Studies         95.100000\n",
       "Csi High School For International Studies             95.100000\n",
       "Thomas A Edison Career And Technical High School      94.200000\n",
       "Channel View School For Research                      93.400000\n",
       "Knowledge And Power Prep Academy International Hig    93.250000\n",
       "Brooklyn College Academy                              93.244444\n",
       "Academy Of Finance And Enterprise                     93.175000\n",
       "Talent Unlimited High School                          93.100000\n",
       "Manhattan Village Academy                             92.925000\n",
       "Astor Collegiate Academy                              91.925000\n",
       "Academy Of American Studies                           91.854545\n",
       "Midwood High School                                   91.681818\n",
       "Professional Performing Arts High School              91.380000\n",
       "Bronx Center For Science And Mathematics              91.250000\n",
       "World Journalism Preparatory                          91.200000\n",
       "Name: Total Grads Pct of cohort, dtype: float64"
      ]
     },
     "execution_count": 499,
     "metadata": {},
     "output_type": "execute_result"
    }
   ],
   "source": [
    "# girls at Co-Ed schools total graduation rate\n",
    "girlsCoed_gradRate = df[(df[\"School Type\"] == \"Co-Ed\") & (df[\"Demographic\"] == \"Female\")][[\"School Name\", \"Total Grads Pct of cohort\"]]\n",
    "girlsCoed_gradRate.groupby(\"School Name\")[\"Total Grads Pct of cohort\"].mean().sort_values(ascending = False).head(20)"
   ]
  },
  {
   "cell_type": "markdown",
   "metadata": {},
   "source": [
    "Now we look at the graduation rates for girls at all-girls schools using the same filtering and grouping techniques. \n",
    "\n",
    "The graduate rates range from about 74% to 97%, which again are very high compared to the all-boys schools rates. These women are academically driven!"
   ]
  },
  {
   "cell_type": "code",
   "execution_count": 500,
   "metadata": {},
   "outputs": [
    {
     "data": {
      "text/plain": [
       "School Name\n",
       "Baruch College Campus High School                     97.000000\n",
       "Queens Gateway To Health Sciences Secondary School    94.420000\n",
       "Marie Curie High Sch-Nursing, Medicine & Applied H    93.800000\n",
       "Young Women'S Leadership School Of Queens             92.100000\n",
       "The Bronx Preparatory Academy                         90.000000\n",
       "East-West School Of International Studies             87.900000\n",
       "Bronx Health Sciences High School                     87.300000\n",
       "Academy For Social Action-A College Board School      86.350000\n",
       "Liberation Diploma Plus                               85.700000\n",
       "Repertory Company High School For Theatre Arts        82.100000\n",
       "Women'S Academy Of Excellence                         80.266667\n",
       "High School For Violin And Dance                      79.242857\n",
       "Central Park East High School                         78.550000\n",
       "Bronx International High School                       78.400000\n",
       "Urban Assembly School Of Business For Young Women     77.500000\n",
       "Performing Arts And Technology High School            77.080000\n",
       "Validus Preparatory Academy                           76.516667\n",
       "Academy Of Hospitality And Tourism                    76.400000\n",
       "Humanities Preparatory Academy                        75.625000\n",
       "Academy For Language And Technology                   74.450000\n",
       "Name: Total Grads Pct of cohort, dtype: float64"
      ]
     },
     "execution_count": 500,
     "metadata": {},
     "output_type": "execute_result"
    }
   ],
   "source": [
    "# girls at All-Girls schools total graduation rate\n",
    "girlsGirls_gradRate = df[df[\"School Type\"] == \"All-Girls\"][[\"School Name\", \"Total Grads Pct of cohort\"]]\n",
    "girlsGirls_gradRate.groupby(\"School Name\")[\"Total Grads Pct of cohort\"].mean().sort_values(ascending = False).head(20)"
   ]
  },
  {
   "cell_type": "markdown",
   "metadata": {},
   "source": [
    "For my fifth analysis, we do a similar filtering and grouping method, but to examine the drop out rates. This time, I sort them in descending order to see the schools with the highest drop out rates, and showing the top 20 highest.\n",
    "\n",
    "Below we see the schools with the 20 highest drop out rates for boys at co-ed schools, ranging from 31% to 45%."
   ]
  },
  {
   "cell_type": "code",
   "execution_count": 523,
   "metadata": {},
   "outputs": [
    {
     "data": {
      "text/plain": [
       "School Name\n",
       "Adlai E. Stevenson High School                    45.800000\n",
       "Park West High School                             44.433333\n",
       "Evander Childs High School                        43.733333\n",
       "George Wingate High School                        41.300000\n",
       "South Shore High School                           39.129412\n",
       "High School Of Graphic Communication Arts         38.347059\n",
       "Far Rockaway High School                          37.000000\n",
       "Franklin K Lane High School                       36.445455\n",
       "Washington Irving High School                     36.409091\n",
       "Lafayette High School                             36.120000\n",
       "Louis D Brandeis High School                      34.863636\n",
       "Harry Van Arsdale High School                     34.422222\n",
       "Jane Addams High School For Academic Careers      34.215789\n",
       "Norman Thomas High School                         34.050000\n",
       "Walton High School                                33.608333\n",
       "John F Kennedy High School                        32.750000\n",
       "Grace H Dodge Career And Technical High School    32.335000\n",
       "Franklin D Roosevelt High School                  32.195455\n",
       "Monroe Academy For Business/Law                   31.475000\n",
       "Liberty High School Academy For Newcomers         31.211765\n",
       "Name: Dropped Out Pct of cohort, dtype: float64"
      ]
     },
     "execution_count": 523,
     "metadata": {},
     "output_type": "execute_result"
    }
   ],
   "source": [
    "# dropped out percentages of boys at Co-Ed: 266 schools\n",
    "boysCoed_dropRate = df[(df[\"School Type\"] == \"Co-Ed\") & (df[\"Demographic\"] == \"Male\")][[\"School Name\", \"Dropped Out Pct of cohort\"]]\n",
    "boysCoed_dropRate.groupby(\"School Name\")[\"Dropped Out Pct of cohort\"].mean().sort_values(ascending = False).head(20)\n",
    "#len(boysCoed_dropRate[\"School Name\"].unique())"
   ]
  },
  {
   "cell_type": "markdown",
   "metadata": {},
   "source": [
    "Here we see the schools with the 20 highest drop out rates for boys at all-boys schools, ranging from 51% to 1.3%. Again, the range here is wide because there are only 21 all-boys schools in our dataset. But the rates seem consistently higher in co-ed schools."
   ]
  },
  {
   "cell_type": "code",
   "execution_count": 524,
   "metadata": {},
   "outputs": [
    {
     "data": {
      "text/plain": [
       "School Name\n",
       "Bronx Community High School                           51.350000\n",
       "Crotona Academy High School                           26.700000\n",
       "Urban Assembly Acad-History And Citizenship For Yo    26.500000\n",
       "Pablo Neruda Academy For Architecture And World St    25.000000\n",
       "Automotive High School                                23.260000\n",
       "Bronx Coalition Community High School                 21.000000\n",
       "Coalition School For Social Change                    21.000000\n",
       "Urban Assembly Academy Of Government And Law          16.360000\n",
       "Facing History School (The)                           16.300000\n",
       "Bronx Lab School                                      12.100000\n",
       "Pan American International High School                12.000000\n",
       "High School Of Sports Management                      11.616667\n",
       "Eagle Academy For Young Men                            8.680000\n",
       "Urban Assembly School Of Design And Construction       8.580000\n",
       "High School Of Computers And Technology                6.916667\n",
       "Urban Assembly School For Applied Math And Science     5.000000\n",
       "Baccalaureate School For Global Education              4.500000\n",
       "All City Leadership Secondary School                   4.200000\n",
       "Bronx Aerospace High School                            3.600000\n",
       "Manhattan/Hunter Science High School                   3.340000\n",
       "High Sch-Construction, Trades, Engineering & Archi     1.300000\n",
       "Name: Dropped Out Pct of cohort, dtype: float64"
      ]
     },
     "execution_count": 524,
     "metadata": {},
     "output_type": "execute_result"
    }
   ],
   "source": [
    "# dropped out percentages of boys at All-Boys: 21 schools\n",
    "boysBoys_dropRate = df[df[\"School Type\"] == \"All-Boys\"][[\"School Name\", \"Dropped Out Pct of cohort\"]]\n",
    "boysBoys_dropRate.groupby(\"School Name\")[\"Dropped Out Pct of cohort\"].mean().sort_values(ascending = False)\n",
    "# len(boysBoys_dropRate[\"School Name\"].unique())"
   ]
  },
  {
   "cell_type": "markdown",
   "metadata": {},
   "source": [
    "Below we see the schools with the 20 highest drop out rates for girls at co-ed schools, ranging from 24% to 39% which is a bit lower than the boys at co-ed schools."
   ]
  },
  {
   "cell_type": "code",
   "execution_count": 525,
   "metadata": {},
   "outputs": [
    {
     "data": {
      "text/plain": [
       "School Name\n",
       "Queens Academy High School                         39.000000\n",
       "Fdny High School For Fire And Life Safety          38.100000\n",
       "Evander Childs High School                         37.600000\n",
       "Park West High School                              33.566667\n",
       "Adlai E. Stevenson High School                     32.800000\n",
       "Alfred E Smith Career And Technical High School    32.308333\n",
       "Walton High School                                 31.166667\n",
       "Harry Van Arsdale High School                      30.400000\n",
       "South Shore High School                            29.846154\n",
       "Grace H Dodge Career And Technical High School     29.520000\n",
       "High School Of Graphic Communication Arts          28.431250\n",
       "Franklin K Lane High School                        28.227273\n",
       "Washington Irving High School                      28.036364\n",
       "Far Rockaway High School                           26.876471\n",
       "Louis D Brandeis High School                       26.813636\n",
       "Leadership Institute                               26.550000\n",
       "Erasmus Hall Campus: Hs For Business & Techn       26.328571\n",
       "Lafayette High School                              25.770000\n",
       "Liberty High School Academy For Newcomers          25.427778\n",
       "Jane Addams High School For Academic Careers       24.318182\n",
       "Name: Dropped Out Pct of cohort, dtype: float64"
      ]
     },
     "execution_count": 525,
     "metadata": {},
     "output_type": "execute_result"
    }
   ],
   "source": [
    "# dropped out percentages of girls at Co-Ed: 266 schools\n",
    "girlsCoed_dropRate = df[(df[\"School Type\"] == \"Co-Ed\") & (df[\"Demographic\"] == \"Female\")][[\"School Name\", \"Dropped Out Pct of cohort\"]]\n",
    "girlsCoed_dropRate.groupby(\"School Name\")[\"Dropped Out Pct of cohort\"].mean().sort_values(ascending = False).head(20)\n",
    "#len(girlsCoed_dropRate[\"School Name\"].unique())"
   ]
  },
  {
   "cell_type": "markdown",
   "metadata": {},
   "source": [
    "Below we see the schools with the 20 highest drop out rates for girls at all-girls schools, ranging from 37% to 1.5%. Again, we note the smaller range since there are only 32 all-girls schools. However, the rates are still lower than the all-boys schools."
   ]
  },
  {
   "cell_type": "code",
   "execution_count": 526,
   "metadata": {},
   "outputs": [
    {
     "data": {
      "text/plain": [
       "School Name\n",
       "Springfield Gardens High School                       37.766667\n",
       "Thomas Jefferson High School                          34.266667\n",
       "Bronx Regional High School                            33.300000\n",
       "Independence High School                              33.100000\n",
       "Erasmus Hall Campus: Hs For Humanities                30.000000\n",
       "Bronx High School For Writing And Communication Ar    19.560000\n",
       "Manhattan Theatre Lab High School                     17.900000\n",
       "Bronx Expeditionary Learning High School              16.900000\n",
       "Edward A Reynolds West Side High School               15.033333\n",
       "Humanities Preparatory Academy                        13.425000\n",
       "New Explorers High School                             13.166667\n",
       "Women'S Academy Of Excellence                         11.783333\n",
       "Performing Arts And Technology High School            11.200000\n",
       "Bronx International High School                       10.800000\n",
       "Holcombe L Rucker School Of Community Research        10.700000\n",
       "Urban Assembly School Of Business For Young Women     10.687500\n",
       "Academy Of Hospitality And Tourism                    10.566667\n",
       "Juan Morel Campos Secondary School                    10.033333\n",
       "High School For Violin And Dance                       9.857143\n",
       "Bronx Health Sciences High School                      8.650000\n",
       "Validus Preparatory Academy                            7.700000\n",
       "Repertory Company High School For Theatre Arts         7.100000\n",
       "Academy For Language And Technology                    6.700000\n",
       "Central Park East High School                          6.400000\n",
       "The Bronx Preparatory Academy                          5.000000\n",
       "Liberation Diploma Plus                                3.600000\n",
       "Marie Curie High Sch-Nursing, Medicine & Applied H     3.100000\n",
       "Academy For Social Action-A College Board School       3.000000\n",
       "East-West School Of International Studies              3.000000\n",
       "Queens Gateway To Health Sciences Secondary School     2.020000\n",
       "Young Women'S Leadership School Of Queens              1.800000\n",
       "Baruch College Campus High School                      1.500000\n",
       "Name: Dropped Out Pct of cohort, dtype: float64"
      ]
     },
     "execution_count": 526,
     "metadata": {},
     "output_type": "execute_result"
    }
   ],
   "source": [
    "# dropped out percentages of girls at All-Girls: 32 schools\n",
    "girlsGirls_dropRate = df[df[\"School Type\"] == \"All-Girls\"][[\"School Name\", \"Dropped Out Pct of cohort\"]]\n",
    "girlsGirls_dropRate.groupby(\"School Name\")[\"Dropped Out Pct of cohort\"].mean().sort_values(ascending = False)\n",
    "# len(girlsGirls_dropRate[\"School Name\"].unique())"
   ]
  },
  {
   "cell_type": "markdown",
   "metadata": {},
   "source": [
    "Based on the graduation and drop out rates of students at both co-ed and single gender schools, women are overall graduating and passing at a higher rate than men."
   ]
  },
  {
   "cell_type": "markdown",
   "metadata": {},
   "source": [
    "## Data visualization\n",
    "In this section, you will create a few **visualizations** that show some of the insights you have gathered from this data.\n",
    "- Create at least 5 different visualizations, where each visualization shows different insights into the data.\n",
    "- Use at least 3 different visualization types (e.g. bar charts, line charts, stacked area charts, pie charts, etc)\n",
    "- Create a Markdown cell and a Code cell for each, where you explain and show the visualizations, respectively.\n",
    "- Create as many additional cells as you need to prepare the data for the visualizations."
   ]
  },
  {
   "cell_type": "markdown",
   "metadata": {},
   "source": [
    "My 5 visualizations:\n",
    "- (Time Series plot) Graduation rate at Laguardia High School over time.\n",
    "- (Time Series plot) Drop out rate at Far Rockaway High School over time.\n",
    "- (Side-by-side Bar Chart) Boys vs Girls at Coed schools, average graduation rate over time.\n",
    "- (Pie Chart) Advanced Regents Percent of Cohort by school type.\n",
    "- (Horizontal Bar Chart) All-boys schools by graduation rate"
   ]
  },
  {
   "cell_type": "markdown",
   "metadata": {},
   "source": [
    "First, I took the graduation rates of Fiorello H Laguardia High School Of Music and plotted them over time. Laguardia High School was one of the schools with the highest graduation rates from our previous analyses, so I figured it would be interesting to look at.\n",
    "\n",
    "We first filter for the school and group by the cohort year, averaging the graduation rate per year."
   ]
  },
  {
   "cell_type": "code",
   "execution_count": 505,
   "metadata": {},
   "outputs": [
    {
     "data": {
      "text/plain": [
       "Cohort Year\n",
       "2001    93.260000\n",
       "2002    96.675000\n",
       "2003    98.450000\n",
       "2004    97.933333\n",
       "2005    97.350000\n",
       "2006    97.316667\n",
       "2007    98.100000\n",
       "Name: Total Grads Pct of cohort, dtype: float64"
      ]
     },
     "execution_count": 505,
     "metadata": {},
     "output_type": "execute_result"
    }
   ],
   "source": [
    "gradRateOverTime = df[df[\"School Name\"] == \"Fiorello H Laguardia High School Of Music\"][[\"School Name\", \"Demographic\", \"Cohort Year\", \"Total Grads Pct of cohort\"]]\n",
    "lagHighRates = gradRateOverTime.groupby(\"Cohort Year\")[\"Total Grads Pct of cohort\"].mean().sort_values(ascending = True)\n",
    "#gradRateOverTime.sort_values(by = \"Cohort Year\", ascending = True)\n",
    "lagHighRates.sort_index(ascending = True)\n",
    "#type(lagHighRates)"
   ]
  },
  {
   "cell_type": "markdown",
   "metadata": {},
   "source": [
    "Here, we plot them over time. The range of years in this dataset is small, and given that the graduation rates are consistently high at Laguardia, it is clear in this plot that the rate did not vary much over time."
   ]
  },
  {
   "cell_type": "code",
   "execution_count": 506,
   "metadata": {},
   "outputs": [
    {
     "data": {
      "text/plain": [
       "Text(0.5, 1.0, 'Graduation Rate Over Time at Laguardia High School Of Music')"
      ]
     },
     "execution_count": 506,
     "metadata": {},
     "output_type": "execute_result"
    },
    {
     "data": {
      "image/png": "[encoded data removed]",
      "text/plain": [
       "<Figure size 432x288 with 1 Axes>"
      ]
     },
     "metadata": {
      "needs_background": "light"
     },
     "output_type": "display_data"
    }
   ],
   "source": [
    "lagHighRates.plot(ylabel = \"Graduation Rate\")\n",
    "plt.title(\"Graduation Rate Over Time at Laguardia High School Of Music\")"
   ]
  },
  {
   "cell_type": "markdown",
   "metadata": {},
   "source": [
    "Next, we look at the drop out rate over time for Far Rockaway High School which was one of the schools with one of the highest drop out rates. I wanted to see if they had improved over time.\n",
    "\n",
    "I filtered the data for the school's name, then grouped by the cohort year, averaging the drop out rate."
   ]
  },
  {
   "cell_type": "code",
   "execution_count": 507,
   "metadata": {},
   "outputs": [
    {
     "data": {
      "text/plain": [
       "Cohort Year\n",
       "2001    32.300000\n",
       "2002    34.100000\n",
       "2003    33.816667\n",
       "2004    32.360000\n",
       "2005    22.850000\n",
       "2007    23.200000\n",
       "Name: Dropped Out Pct of cohort, dtype: float64"
      ]
     },
     "execution_count": 507,
     "metadata": {},
     "output_type": "execute_result"
    }
   ],
   "source": [
    "dropRateOverTime = df[df[\"School Name\"] == \"Far Rockaway High School\"][[\"School Name\", \"Demographic\", \"Cohort Year\", \"Dropped Out Pct of cohort\"]]\n",
    "dropRates = petridesDropRateOverTime.groupby(\"Cohort Year\")[\"Dropped Out Pct of cohort\"].mean().sort_values(ascending = True)\n",
    "#petridesRateOverTime.sort_values(by = \"Cohort Year\", ascending = True)\n",
    "dropRates.sort_index(ascending = True)\n",
    "#type(dropRates)\n",
    "#Far Rockaway High School"
   ]
  },
  {
   "cell_type": "markdown",
   "metadata": {},
   "source": [
    "Now, we plot it. The drop out rate did indeed decrease, as we can see from both the numeric data above and the plot below. Far Rockaway High School has either improved its education or the number of students has increased enough to dilute the rate of those dropping out."
   ]
  },
  {
   "cell_type": "code",
   "execution_count": 508,
   "metadata": {},
   "outputs": [
    {
     "data": {
      "text/plain": [
       "(20.0, 35.0)"
      ]
     },
     "execution_count": 508,
     "metadata": {},
     "output_type": "execute_result"
    },
    {
     "data": {
      "image/png": "[encoded data removed]",
      "text/plain": [
       "<Figure size 432x288 with 1 Axes>"
      ]
     },
     "metadata": {
      "needs_background": "light"
     },
     "output_type": "display_data"
    }
   ],
   "source": [
    "dropRates.plot(ylabel= \"Dropout Rate\")\n",
    "plt.title(\"Dropout Rate Over Time at Far Rockaway High School\")\n",
    "plt.ylim(20, 35)"
   ]
  },
  {
   "cell_type": "markdown",
   "metadata": {},
   "source": [
    "Third is a side-by-side bar chart comparing boys and girls' graudation rates over time in co-ed schools. I used filtering to retrieve the data for co-ed boys vs girls, then grouping by the cohort year for the average graduation rate.\n",
    "\n",
    "As is visible below and from our previous analysis, the girls are performing consistently higher."
   ]
  },
  {
   "cell_type": "code",
   "execution_count": 509,
   "metadata": {},
   "outputs": [
    {
     "data": {
      "text/plain": [
       "Text(0.5, 1.0, 'Graduation Rates in Co-Ed Schools')"
      ]
     },
     "execution_count": 509,
     "metadata": {},
     "output_type": "execute_result"
    },
    {
     "data": {
      "image/png": "[encoded data removed]",
      "text/plain": [
       "<Figure size 432x288 with 1 Axes>"
      ]
     },
     "metadata": {
      "needs_background": "light"
     },
     "output_type": "display_data"
    }
   ],
   "source": [
    "boys = df[(df[\"School Type\"] == \"Co-Ed\") & (df[\"Demographic\"]== \"Male\")][[\"School Name\", \"Cohort Year\", \"Demographic\", \"Total Grads Pct of cohort\"]]\n",
    "girls = df[(df[\"School Type\"] == \"Co-Ed\") & (df[\"Demographic\"]== \"Female\")][[\"School Name\", \"Cohort Year\", \"Demographic\", \"Total Grads Pct of cohort\"]]\n",
    "b = boys.groupby(\"Cohort Year\")[\"Total Grads Pct of cohort\"].mean()\n",
    "g = girls.groupby(\"Cohort Year\")[\"Total Grads Pct of cohort\"].mean()\n",
    "\n",
    "combined = pd.DataFrame({\n",
    "    \"boys\": b,\n",
    "    \"girls\": g\n",
    "})\n",
    "combined.plot.bar(ylabel = \"graduation rate\")\n",
    "plt.ylim(0,90)\n",
    "plt.title(\"Graduation Rates in Co-Ed Schools\")"
   ]
  },
  {
   "cell_type": "markdown",
   "metadata": {},
   "source": [
    "Next, here is a horizontal bar chart of the graduation rates at all-boys schools. From our previous analyses and as seen below, the graduation rate ranges widely. The plot makes it more visible that the majority of the schools do not have very successful graduation rates."
   ]
  },
  {
   "cell_type": "code",
   "execution_count": 531,
   "metadata": {},
   "outputs": [
    {
     "data": {
      "image/png": "[encoded data removed]",
      "text/plain": [
       "<Figure size 432x288 with 1 Axes>"
      ]
     },
     "metadata": {
      "needs_background": "light"
     },
     "output_type": "display_data"
    }
   ],
   "source": [
    "# girls at All-boys schools total graduation rate, horizontal bar chart\n",
    "boys_schools = df[df[\"School Type\"] == \"All-Boys\"][[\"School Name\", \"Total Grads Pct of cohort\"]]\n",
    "grouped_grad_rate = boys_schools.groupby(\"School Name\")[\"Total Grads Pct of cohort\"].mean().sort_values(ascending=False)\n",
    "\n",
    "grouped_grad_rate[::-1].plot.barh()\n",
    "\n",
    "plt.title(\"All-Boys Schools by Graduation Rate\")\n",
    "plt.xlabel(\"Graduation Rate per Cohort\")\n",
    "plt.ylabel(\"School Name\")\n",
    "plt.xlim(30, 100)\n",
    "plt.show()"
   ]
  },
  {
   "cell_type": "markdown",
   "metadata": {},
   "source": [
    "Finally, I created a pie chart to show the percentage of school-types that have students taking the Advanced Regents exams. They are split fairly evenly between the all-girls and all-boys schools, but the majority of them are taken in co-ed schools. I would have expected the advanced exams to be taken at all-girls or all-boys schools, but co-ed schools perhaps encourage students to challenge themselves."
   ]
  },
  {
   "cell_type": "code",
   "execution_count": 510,
   "metadata": {},
   "outputs": [
    {
     "data": {
      "text/plain": [
       "<AxesSubplot:ylabel='Advanced Regents Pct of cohort'>"
      ]
     },
     "execution_count": 510,
     "metadata": {},
     "output_type": "execute_result"
    },
    {
     "data": {
      "image/png": "[encoded data removed]",
      "text/plain": [
       "<Figure size 432x288 with 1 Axes>"
      ]
     },
     "metadata": {},
     "output_type": "display_data"
    }
   ],
   "source": [
    "# Advanced Regents percent of cohort by school type\n",
    "advRegSchoolTypeGrad = df.groupby(\"School Type\")[\"Advanced Regents Pct of cohort\"].mean()\n",
    "advRegSchoolTypeGrad.plot.pie(y = \"School Type\", autopct=\"%1.1f%%\", legend = False)"
   ]
  }
 ],
 "metadata": {
  "kernelspec": {
   "display_name": "Python 3 (ipykernel)",
   "language": "python",
   "name": "python3"
  },
  "language_info": {
   "codemirror_mode": {
    "name": "ipython",
    "version": 3
   },
   "file_extension": ".py",
   "mimetype": "text/x-python",
   "name": "python",
   "nbconvert_exporter": "python",
   "pygments_lexer": "ipython3",
   "version": "3.9.7"
  }
 },
 "nbformat": 4,
 "nbformat_minor": 4
}
